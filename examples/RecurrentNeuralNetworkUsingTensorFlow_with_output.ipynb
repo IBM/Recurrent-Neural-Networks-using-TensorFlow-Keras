{
 "cells": [
  {
   "cell_type": "markdown",
   "metadata": {},
   "source": [
    "<h1 align=\"center\"><font size=\"5\">RECURRENT NETWORKS and LSTM IN DEEP LEARNING</font></h1>\n"
   ]
  },
  {
   "cell_type": "markdown",
   "metadata": {},
   "source": [
    "<h2>Applying Recurrent Neural Networks/LSTM for Language Modeling</h2>\n",
    "\n",
    "Hello and welcome to this part. In this notebook, we will go over the topic of Language Modeling, and create a Recurrent Neural Network model based on the Long Short-Term Memory unit to train and benchmark on the Penn Treebank dataset. By the end of this notebook, you should be able to understand how TensorFlow builds and executes a RNN model for Language Modeling.\n"
   ]
  },
  {
   "cell_type": "markdown",
   "metadata": {},
   "source": [
    "<h2>The Objective</h2>\n",
    "\n",
    "In this notebook, we go over a TensorFlow code snippet for creating a model focused on <b>Language Modeling</b> -- a very relevant task that is the cornerstone of many different linguistic problems such as <b>Speech Recognition, Machine Translation and Image Captioning</b>. For this, we will be using the Penn Treebank dataset, which is an often-used dataset for benchmarking Language Modeling models.\n"
   ]
  },
  {
   "cell_type": "markdown",
   "metadata": {},
   "source": [
    "<h5> 1. What exactly is Language Modeling? </h5>\n",
    "<h5> 2. Word Embeddings. </h5>\n",
    "<h5> 3. Applying Recurrent Neural Networks to Text Processing. </h5>\n",
    "<h5> 4. Building the LSTM model for Language Modeling. </h5>     \n",
    "\n"
   ]
  },
  {
   "cell_type": "markdown",
   "metadata": {
    "button": false,
    "new_sheet": false,
    "run_control": {
     "read_only": false
    }
   },
   "source": [
    "* * *\n"
   ]
  },
  {
   "cell_type": "markdown",
   "metadata": {},
   "source": [
    "<h2>Table of Contents</h2>\n",
    "<ol>\n",
    "    <li><a href=\"#language_modeling\">What exactly is Language Modeling?</a></li>\n",
    "    <li><a href=\"#treebank_dataset\">The Penn Treebank dataset</a></li>\n",
    "    <li><a href=\"#word_embedding\">Word Embedding</a></li>\n",
    "    <li><a href=\"#building_lstm_model\">Building the LSTM model for Language Modeling</a></li>\n",
    "    <li><a href=\"#lstm\">LSTM</a></li>\n",
    "</ol>\n",
    "<p></p>\n",
    "</div>\n",
    "<br>\n"
   ]
  },
  {
   "cell_type": "markdown",
   "metadata": {},
   "source": [
    "<a id=\"language_modeling\"></a>\n",
    "\n",
    "<h2>What exactly is Language Modeling?</h2>\n",
    "\n",
    "Language Modeling, to put it simply, <b>is the task of assigning probabilities to sequences of words</b>. This means that, given a context of one or a sequence of words in the language the model was trained on, the model should provide the next most probable words or sequence of words that follows from the given sequence of words in the sentence. Language Modeling is one of the most important tasks in Natural Language Processing.\n",
    "\n",
    "<img src=\"https://ibm.box.com/shared/static/1d1i5gub6wljby2vani2vzxp0xsph702.png\" width=\"1080\">\n",
    "<center><i>Example of a sentence being predicted</i></center>\n",
    "<br><br>\n",
    "In this example, one can see the predictions for the next word of the sentence, given the context \"This is an\". As you can see, this boils down to a sequential data analysis task -- you are given a word or a sequence of words (the input data), and, given the context (the state), you need to find out what is the next word (the prediction). This kind of analysis is very important for language-related tasks such as <b>Speech Recognition, Machine Translation, Image Captioning, Text Correction</b> and many other very relevant problems. \n",
    "\n",
    "<img src=\"https://ibm.box.com/shared/static/az39idf9ipfdpc5ugifpgxnydelhyf3i.png\" width=\"1080\">\n",
    "<center><i>The above example is a schema of an RNN in execution</i></center>\n",
    "<br><br>\n",
    "As the above image shows, Recurrent Network models fit this problem like a glove. Alongside LSTM and its capacity to maintain the model's state for over one thousand time steps, we have all the tools we need to undertake this problem. The goal for this notebook is to create a model that can reach <b>low levels of perplexity</b> on our desired dataset.\n",
    "\n",
    "For Language Modeling problems, <b>perplexity</b> is the way to gauge efficiency. Perplexity is simply a measure of how well a probabilistic model is able to predict its sample. A higher-level way to explain this would be saying that <b>low perplexity means a higher degree of trust in the predictions the model makes</b>. Therefore, the lower perplexity is, the better.\n"
   ]
  },
  {
   "cell_type": "markdown",
   "metadata": {},
   "source": [
    "<a id=\"treebank_dataset\"></a>\n",
    "\n",
    "<h2>The Penn Treebank dataset</h2>\n",
    "\n",
    "Historically, datasets big enough for Natural Language Processing are hard to come by. This is in part due to the necessity of the sentences to be broken down and tagged with a certain degree of correctness -- or else the models trained on it won't be correct at all. This means that we need a <b>large amount of data, annotated by or at least corrected by humans</b>. This is, of course, not an easy task at all.\n",
    "\n",
    "The Penn Treebank, or PTB for short, is a dataset maintained by the University of Pennsylvania. It is <i>huge</i> -- there are over <b>four million and eight hundred thousand</b> annotated words in it, all corrected by humans. It is composed of many different sources, from abstracts of Department of Energy papers to texts from the Library of America. Since it is verifiably correct and of such a huge size, the Penn Treebank is commonly used as a benchmark dataset for Language Modeling.\n",
    "\n",
    "The dataset is divided in different kinds of annotations, such as Piece-of-Speech, Syntactic and Semantic skeletons. For this example, we will simply use a sample of clean, non-annotated words (with the exception of one tag --<code>&lt;unk&gt;</code>, which is used for rare words such as uncommon proper nouns) for our model. This means that we just want to predict what the next words would be, not what they mean in context or their classes on a given sentence.\n",
    "<br><br><br>\n",
    "<center>Example of text from the dataset we are going to use, <b>ptb.train</b></center>\n",
    "\n",
    "<div class=\"alert alert-block alert-info\" style=\"margin-top: 20px\">\n",
    "    <center>the percentage of lung cancer deaths among the workers at the west <code>&lt;unk&gt;</code> mass. paper factory appears to be the highest for any asbestos workers studied in western industrialized countries he said \n",
    " the plant which is owned by <code>&lt;unk&gt;</code> & <code>&lt;unk&gt;</code> co. was under contract with <code>&lt;unk&gt;</code> to make the cigarette filters \n",
    " the finding probably will support those who argue that the U.S. should regulate the class of asbestos including <code>&lt;unk&gt;</code> more <code>&lt;unk&gt;</code> than the common kind of asbestos <code>&lt;unk&gt;</code> found in most schools and other buildings dr. <code>&lt;unk&gt;</code> said</center>\n",
    "</div>\n"
   ]
  },
  {
   "cell_type": "markdown",
   "metadata": {
    "button": false,
    "new_sheet": false,
    "run_control": {
     "read_only": false
    }
   },
   "source": [
    "<a id=\"word_embedding\"></a>\n",
    "\n",
    "<h2>Word Embeddings</h2>\n",
    "\n",
    "For better processing, in this example, we will make use of <a href=\"https://www.tensorflow.org/tutorials/word2vec/\"><b>word embeddings</b></a>, which is <b>a way of representing sentence structures or words as n-dimensional vectors (where n is a reasonably high number, such as 200 or 500) of real numbers</b>. Basically, we will assign each word a randomly-initialized vector, and input those into the network to be processed. After a number of iterations, these vectors are expected to assume values that help the network to correctly predict what it needs to -- in our case, the probable next word in the sentence. This is shown to be a very effective task in Natural Language Processing, and is a commonplace practice.\n",
    "<br><br>\n",
    "<font size=\"4\"><strong>\n",
    "$$Vec(\"Example\") = [0.02, 0.00, 0.00, 0.92, 0.30, \\ldots]$$\n",
    "</strong></font>\n",
    "<br>\n",
    "Word Embedding tends to group up similarly used words <i>reasonably</i> close together in the vectorial space. For example, if we use T-SNE (a dimensional reduction visualization algorithm) to flatten the dimensions of our vectors into a 2-dimensional space and plot these words in a 2-dimensional space, we might see something like this:\n",
    "\n",
    "<img src=\"https://ibm.box.com/shared/static/bqhc5dg879gcoabzhxra1w8rkg3od1cu.png\" width=\"800\">\n",
    "<center><i>T-SNE Mockup with clusters marked for easier visualization</i></center>\n",
    "<br><br>\n",
    "As you can see, words that are frequently used together, in place of each other, or in the same places as them tend to be grouped together -- being closer together the higher they are correlated. For example, \"None\" is semantically pretty close to \"Zero\", while a phrase that uses \"Italy\", you could probably also fit \"Germany\" in it, with little damage to the sentence structure. The vectorial \"closeness\" for similar words like this is a great indicator of a well-built model.\n",
    "\n",
    "<hr>\n",
    " \n"
   ]
  },
  {
   "cell_type": "markdown",
   "metadata": {
    "button": false,
    "new_sheet": false,
    "run_control": {
     "read_only": false
    }
   },
   "source": [
    "<h2>Importing and installing modules</h2>\n",
    "    \n",
    "We need to import the necessary modules for our code. We need <b><code>numpy</code></b> and <b><code>tensorflow</code></b>, obviously. Additionally, we can import directly the <b><code>tensorflow.models.rnn</code></b> model, which includes the function for building RNNs, and <b><code>tensorflow.models.rnn.ptb.reader</code></b> which is a helper module for getting the input data from the dataset that we will download and use.\n",
    "\n",
    "If you want to learn more take a look at <https://github.com/IBM/Recurrent-Neural-Networks-using-TensorFlow-Keras/blob/main/scripts/reader.py>\n"
   ]
  },
  {
   "cell_type": "code",
   "execution_count": 1,
   "metadata": {
    "tags": []
   },
   "outputs": [
    {
     "name": "stdout",
     "output_type": "stream",
     "text": [
      "Requirement already satisfied: tensorflow==2.2.0rc0 in /opt/conda/envs/Python-3.7-main/lib/python3.7/site-packages (2.2.0rc0)\n",
      "Requirement already satisfied: tensorflow-estimator<2.2.0,>=2.1.0 in /opt/conda/envs/Python-3.7-main/lib/python3.7/site-packages (from tensorflow==2.2.0rc0) (2.1.0)\n",
      "Requirement already satisfied: opt-einsum>=2.3.2 in /opt/conda/envs/Python-3.7-main/lib/python3.7/site-packages (from tensorflow==2.2.0rc0) (3.1.0)\n",
      "Requirement already satisfied: astunparse==1.6.3 in /opt/conda/envs/Python-3.7-main/lib/python3.7/site-packages (from tensorflow==2.2.0rc0) (1.6.3)\n",
      "Requirement already satisfied: h5py<2.11.0,>=2.10.0 in /opt/conda/envs/Python-3.7-main/lib/python3.7/site-packages (from tensorflow==2.2.0rc0) (2.10.0)\n",
      "Requirement already satisfied: wheel>=0.26; python_version >= \"3\" in /opt/conda/envs/Python-3.7-main/lib/python3.7/site-packages (from tensorflow==2.2.0rc0) (0.34.2)\n",
      "Requirement already satisfied: tensorboard<2.2.0,>=2.1.0 in /opt/conda/envs/Python-3.7-main/lib/python3.7/site-packages (from tensorflow==2.2.0rc0) (2.1.0)\n",
      "Requirement already satisfied: protobuf>=3.8.0 in /opt/conda/envs/Python-3.7-main/lib/python3.7/site-packages (from tensorflow==2.2.0rc0) (3.12.3)\n",
      "Requirement already satisfied: absl-py>=0.7.0 in /opt/conda/envs/Python-3.7-main/lib/python3.7/site-packages (from tensorflow==2.2.0rc0) (0.9.0)\n",
      "Requirement already satisfied: numpy<2.0,>=1.16.0 in /opt/conda/envs/Python-3.7-main/lib/python3.7/site-packages (from tensorflow==2.2.0rc0) (1.18.5)\n",
      "Requirement already satisfied: wrapt>=1.11.1 in /opt/conda/envs/Python-3.7-main/lib/python3.7/site-packages (from tensorflow==2.2.0rc0) (1.12.1)\n",
      "Requirement already satisfied: gast==0.3.3 in /opt/conda/envs/Python-3.7-main/lib/python3.7/site-packages (from tensorflow==2.2.0rc0) (0.3.3)\n",
      "Requirement already satisfied: grpcio>=1.8.6 in /opt/conda/envs/Python-3.7-main/lib/python3.7/site-packages (from tensorflow==2.2.0rc0) (1.27.2)\n",
      "Requirement already satisfied: google-pasta>=0.1.8 in /opt/conda/envs/Python-3.7-main/lib/python3.7/site-packages (from tensorflow==2.2.0rc0) (0.2.0)\n",
      "Requirement already satisfied: scipy==1.4.1; python_version >= \"3\" in /opt/conda/envs/Python-3.7-main/lib/python3.7/site-packages (from tensorflow==2.2.0rc0) (1.4.1)\n",
      "Requirement already satisfied: keras-preprocessing>=1.1.0 in /opt/conda/envs/Python-3.7-main/lib/python3.7/site-packages (from tensorflow==2.2.0rc0) (1.1.0)\n",
      "Requirement already satisfied: six>=1.12.0 in /opt/conda/envs/Python-3.7-main/lib/python3.7/site-packages (from tensorflow==2.2.0rc0) (1.15.0)\n",
      "Requirement already satisfied: termcolor>=1.1.0 in /opt/conda/envs/Python-3.7-main/lib/python3.7/site-packages (from tensorflow==2.2.0rc0) (1.1.0)\n",
      "Requirement already satisfied: setuptools>=41.0.0 in /opt/conda/envs/Python-3.7-main/lib/python3.7/site-packages (from tensorboard<2.2.0,>=2.1.0->tensorflow==2.2.0rc0) (47.3.1.post20200622)\n",
      "Requirement already satisfied: google-auth-oauthlib<0.5,>=0.4.1 in /opt/conda/envs/Python-3.7-main/lib/python3.7/site-packages (from tensorboard<2.2.0,>=2.1.0->tensorflow==2.2.0rc0) (0.4.1)\n",
      "Requirement already satisfied: werkzeug>=0.11.15 in /opt/conda/envs/Python-3.7-main/lib/python3.7/site-packages (from tensorboard<2.2.0,>=2.1.0->tensorflow==2.2.0rc0) (1.0.1)\n",
      "Requirement already satisfied: google-auth<2,>=1.6.3 in /opt/conda/envs/Python-3.7-main/lib/python3.7/site-packages (from tensorboard<2.2.0,>=2.1.0->tensorflow==2.2.0rc0) (1.22.0)\n",
      "Requirement already satisfied: requests<3,>=2.21.0 in /opt/conda/envs/Python-3.7-main/lib/python3.7/site-packages (from tensorboard<2.2.0,>=2.1.0->tensorflow==2.2.0rc0) (2.24.0)\n",
      "Requirement already satisfied: markdown>=2.6.8 in /opt/conda/envs/Python-3.7-main/lib/python3.7/site-packages (from tensorboard<2.2.0,>=2.1.0->tensorflow==2.2.0rc0) (3.1.1)\n",
      "Requirement already satisfied: requests-oauthlib>=0.7.0 in /opt/conda/envs/Python-3.7-main/lib/python3.7/site-packages (from google-auth-oauthlib<0.5,>=0.4.1->tensorboard<2.2.0,>=2.1.0->tensorflow==2.2.0rc0) (1.3.0)\n",
      "Requirement already satisfied: rsa<5,>=3.1.4; python_version >= \"3.5\" in /opt/conda/envs/Python-3.7-main/lib/python3.7/site-packages (from google-auth<2,>=1.6.3->tensorboard<2.2.0,>=2.1.0->tensorflow==2.2.0rc0) (4.6)\n",
      "Requirement already satisfied: aiohttp<4.0.0dev,>=3.6.2; python_version >= \"3.6\" in /opt/conda/envs/Python-3.7-main/lib/python3.7/site-packages (from google-auth<2,>=1.6.3->tensorboard<2.2.0,>=2.1.0->tensorflow==2.2.0rc0) (3.6.2)\n",
      "Requirement already satisfied: pyasn1-modules>=0.2.1 in /opt/conda/envs/Python-3.7-main/lib/python3.7/site-packages (from google-auth<2,>=1.6.3->tensorboard<2.2.0,>=2.1.0->tensorflow==2.2.0rc0) (0.2.8)\n",
      "Requirement already satisfied: cachetools<5.0,>=2.0.0 in /opt/conda/envs/Python-3.7-main/lib/python3.7/site-packages (from google-auth<2,>=1.6.3->tensorboard<2.2.0,>=2.1.0->tensorflow==2.2.0rc0) (4.1.1)\n",
      "Requirement already satisfied: certifi>=2017.4.17 in /opt/conda/envs/Python-3.7-main/lib/python3.7/site-packages (from requests<3,>=2.21.0->tensorboard<2.2.0,>=2.1.0->tensorflow==2.2.0rc0) (2020.6.20)\n",
      "Requirement already satisfied: chardet<4,>=3.0.2 in /opt/conda/envs/Python-3.7-main/lib/python3.7/site-packages (from requests<3,>=2.21.0->tensorboard<2.2.0,>=2.1.0->tensorflow==2.2.0rc0) (3.0.4)\n",
      "Requirement already satisfied: urllib3!=1.25.0,!=1.25.1,<1.26,>=1.21.1 in /opt/conda/envs/Python-3.7-main/lib/python3.7/site-packages (from requests<3,>=2.21.0->tensorboard<2.2.0,>=2.1.0->tensorflow==2.2.0rc0) (1.25.9)\n",
      "Requirement already satisfied: idna<3,>=2.5 in /opt/conda/envs/Python-3.7-main/lib/python3.7/site-packages (from requests<3,>=2.21.0->tensorboard<2.2.0,>=2.1.0->tensorflow==2.2.0rc0) (2.9)\n",
      "Requirement already satisfied: oauthlib>=3.0.0 in /opt/conda/envs/Python-3.7-main/lib/python3.7/site-packages (from requests-oauthlib>=0.7.0->google-auth-oauthlib<0.5,>=0.4.1->tensorboard<2.2.0,>=2.1.0->tensorflow==2.2.0rc0) (3.1.0)\n",
      "Requirement already satisfied: pyasn1>=0.1.3 in /opt/conda/envs/Python-3.7-main/lib/python3.7/site-packages (from rsa<5,>=3.1.4; python_version >= \"3.5\"->google-auth<2,>=1.6.3->tensorboard<2.2.0,>=2.1.0->tensorflow==2.2.0rc0) (0.4.8)\n",
      "Requirement already satisfied: async-timeout<4.0,>=3.0 in /opt/conda/envs/Python-3.7-main/lib/python3.7/site-packages (from aiohttp<4.0.0dev,>=3.6.2; python_version >= \"3.6\"->google-auth<2,>=1.6.3->tensorboard<2.2.0,>=2.1.0->tensorflow==2.2.0rc0) (3.0.1)\n",
      "Requirement already satisfied: attrs>=17.3.0 in /opt/conda/envs/Python-3.7-main/lib/python3.7/site-packages (from aiohttp<4.0.0dev,>=3.6.2; python_version >= \"3.6\"->google-auth<2,>=1.6.3->tensorboard<2.2.0,>=2.1.0->tensorflow==2.2.0rc0) (19.3.0)\n",
      "Requirement already satisfied: multidict<5.0,>=4.5 in /opt/conda/envs/Python-3.7-main/lib/python3.7/site-packages (from aiohttp<4.0.0dev,>=3.6.2; python_version >= \"3.6\"->google-auth<2,>=1.6.3->tensorboard<2.2.0,>=2.1.0->tensorflow==2.2.0rc0) (4.7.6)\n",
      "Requirement already satisfied: yarl<2.0,>=1.0 in /opt/conda/envs/Python-3.7-main/lib/python3.7/site-packages (from aiohttp<4.0.0dev,>=3.6.2; python_version >= \"3.6\"->google-auth<2,>=1.6.3->tensorboard<2.2.0,>=2.1.0->tensorflow==2.2.0rc0) (1.5.1)\n",
      "Requirement already satisfied: typing-extensions>=3.7.4; python_version < \"3.8\" in /opt/conda/envs/Python-3.7-main/lib/python3.7/site-packages (from yarl<2.0,>=1.0->aiohttp<4.0.0dev,>=3.6.2; python_version >= \"3.6\"->google-auth<2,>=1.6.3->tensorboard<2.2.0,>=2.1.0->tensorflow==2.2.0rc0) (3.7.4.2)\n",
      "Requirement already satisfied: numpy in /opt/conda/envs/Python-3.7-main/lib/python3.7/site-packages (1.18.5)\n"
     ]
    }
   ],
   "source": [
    "!pip install tensorflow==2.2.0rc0\n",
    "!pip install numpy"
   ]
  },
  {
   "cell_type": "code",
   "execution_count": 2,
   "metadata": {},
   "outputs": [],
   "source": [
    "import time\n",
    "import numpy as np\n",
    "import tensorflow as tf\n",
    "if not tf.__version__ == '2.2.0-rc0':\n",
    "    print(tf.__version__)\n",
    "    raise ValueError('please upgrade to TensorFlow 2.2.0-rc0, or restart your Kernel (Kernel->Restart & Clear Output)')"
   ]
  },
  {
   "cell_type": "markdown",
   "metadata": {},
   "source": [
    "<font color=RED><h3>IMPORTANT! => Please restart the kernel by clicking on \"Kernel\"->\"Restart and Clear Output\" and wait until all outputs disappear. After this your chanages should be picked up. </h3></font>\n"
   ]
  },
  {
   "cell_type": "code",
   "execution_count": 3,
   "metadata": {
    "button": false,
    "new_sheet": false,
    "run_control": {
     "read_only": false
    },
    "tags": []
   },
   "outputs": [
    {
     "name": "stdout",
     "output_type": "stream",
     "text": [
      "--2020-10-27 16:53:36--  https://raw.githubusercontent.com/IBM/Recurrent-Neural-Networks-using-TensorFlow-Keras/main/scripts/reader.py\n",
      "Resolving raw.githubusercontent.com (raw.githubusercontent.com)... 199.232.8.133\n",
      "Connecting to raw.githubusercontent.com (raw.githubusercontent.com)|199.232.8.133|:443... connected.\n",
      "HTTP request sent, awaiting response... 200 OK\n",
      "Length: 3859 (3.8K) [text/plain]\n",
      "Saving to: ‘reader.py.1’\n",
      "\n",
      "reader.py.1         100%[===================>]   3.77K  --.-KB/s    in 0s      \n",
      "\n",
      "2020-10-27 16:53:36 (31.1 MB/s) - ‘reader.py.1’ saved [3859/3859]\n",
      "\n"
     ]
    }
   ],
   "source": [
    "!wget https://raw.githubusercontent.com/IBM/Recurrent-Neural-Networks-using-TensorFlow-Keras/main/scripts/reader.py"
   ]
  },
  {
   "cell_type": "code",
   "execution_count": 4,
   "metadata": {
    "tags": []
   },
   "outputs": [
    {
     "name": "stdout",
     "output_type": "stream",
     "text": [
      "2.2.0-rc0\n"
     ]
    }
   ],
   "source": [
    "import reader"
   ]
  },
  {
   "cell_type": "markdown",
   "metadata": {
    "button": false,
    "new_sheet": false,
    "run_control": {
     "read_only": false
    }
   },
   "source": [
    "<a id=\"building_lstm_model\"></a>\n",
    "\n",
    "<h2>Building the LSTM model for Language Modeling</h2>\n",
    "\n",
    "Now that we know exactly what we are doing, we can start building our model using TensorFlow. The very first thing we need to do is download and extract the <code>simple-examples</code> dataset, which can be done by executing the code cell below.\n"
   ]
  },
  {
   "cell_type": "code",
   "execution_count": 5,
   "metadata": {
    "button": false,
    "new_sheet": false,
    "run_control": {
     "read_only": false
    },
    "tags": []
   },
   "outputs": [
    {
     "name": "stdout",
     "output_type": "stream",
     "text": [
      "mkdir: cannot create directory ‘data’: File exists\n",
      "--2020-10-27 16:53:39--  https://github.com/IBM/Recurrent-Neural-Networks-using-TensorFlow-Keras/blob/main/data/simple-examples.tgz?raw=true\n",
      "Resolving github.com (github.com)... 140.82.114.3\n",
      "Connecting to github.com (github.com)|140.82.114.3|:443... connected.\n",
      "HTTP request sent, awaiting response... 302 Found\n",
      "Location: https://github.com/IBM/Recurrent-Neural-Networks-using-TensorFlow-Keras/raw/main/data/simple-examples.tgz [following]\n",
      "--2020-10-27 16:53:39--  https://github.com/IBM/Recurrent-Neural-Networks-using-TensorFlow-Keras/raw/main/data/simple-examples.tgz\n",
      "Reusing existing connection to github.com:443.\n",
      "HTTP request sent, awaiting response... 302 Found\n",
      "Location: https://raw.githubusercontent.com/IBM/Recurrent-Neural-Networks-using-TensorFlow-Keras/main/data/simple-examples.tgz [following]\n",
      "--2020-10-27 16:53:39--  https://raw.githubusercontent.com/IBM/Recurrent-Neural-Networks-using-TensorFlow-Keras/main/data/simple-examples.tgz\n",
      "Resolving raw.githubusercontent.com (raw.githubusercontent.com)... 199.232.8.133\n",
      "Connecting to raw.githubusercontent.com (raw.githubusercontent.com)|199.232.8.133|:443... connected.\n",
      "HTTP request sent, awaiting response... 200 OK\n",
      "Length: 34869662 (33M) [application/octet-stream]\n",
      "Saving to: ‘simple-examples.tgz’\n",
      "\n",
      "simple-examples.tgz 100%[===================>]  33.25M   121MB/s    in 0.3s    \n",
      "\n",
      "2020-10-27 16:53:40 (121 MB/s) - ‘simple-examples.tgz’ saved [34869662/34869662]\n",
      "\n"
     ]
    }
   ],
   "source": [
    "!mkdir data\n",
    "!wget -O simple-examples.tgz https://github.com/IBM/Recurrent-Neural-Networks-using-TensorFlow-Keras/blob/main/data/simple-examples.tgz?raw=true\n",
    "!tar xzf simple-examples.tgz -C data/"
   ]
  },
  {
   "cell_type": "markdown",
   "metadata": {
    "button": false,
    "new_sheet": false,
    "run_control": {
     "read_only": false
    }
   },
   "source": [
    "Additionally, for the sake of making it easy to play around with the model's hyperparameters, we can declare them beforehand. Feel free to change these -- you will see a difference in performance each time you change them!  \n"
   ]
  },
  {
   "cell_type": "code",
   "execution_count": 6,
   "metadata": {
    "button": false,
    "new_sheet": false,
    "run_control": {
     "read_only": false
    }
   },
   "outputs": [],
   "source": [
    "#Initial weight scale\n",
    "init_scale = 0.1\n",
    "#Initial learning rate\n",
    "learning_rate = 1.0\n",
    "#Maximum permissible norm for the gradient (For gradient clipping -- another measure against Exploding Gradients)\n",
    "max_grad_norm = 5\n",
    "#The number of layers in our model\n",
    "num_layers = 2\n",
    "#The total number of recurrence steps, also known as the number of layers when our RNN is \"unfolded\"\n",
    "num_steps = 20\n",
    "#The number of processing units (neurons) in the hidden layers\n",
    "hidden_size_l1 = 256\n",
    "hidden_size_l2 = 128\n",
    "#The maximum number of epochs trained with the initial learning rate\n",
    "max_epoch_decay_lr = 4\n",
    "#The total number of epochs in training\n",
    "max_epoch = 15\n",
    "#The probability for keeping data in the Dropout Layer (This is an optimization, but is outside our scope for this notebook!)\n",
    "#At 1, we ignore the Dropout Layer wrapping.\n",
    "keep_prob = 1\n",
    "#The decay for the learning rate\n",
    "decay = 0.5\n",
    "#The size for each batch of data\n",
    "batch_size = 30\n",
    "#The size of our vocabulary\n",
    "vocab_size = 10000\n",
    "embeding_vector_size= 200\n",
    "#Training flag to separate training from testing\n",
    "is_training = 1\n",
    "#Data directory for our dataset\n",
    "data_dir = \"data/simple-examples/data/\""
   ]
  },
  {
   "cell_type": "markdown",
   "metadata": {
    "button": false,
    "new_sheet": false,
    "run_control": {
     "read_only": false
    }
   },
   "source": [
    "Some clarifications for LSTM architecture based on the arguments:\n",
    "\n",
    "Network structure:\n",
    "\n",
    "<ul>\n",
    "    <li>In this network, the number of LSTM cells are 2. To give the model more expressive power, we can add multiple layers of LSTMs to process the data. The output of the first layer will become the input of the second and so on.\n",
    "    </li>\n",
    "    <li>The recurrence steps is 20, that is, when our RNN is \"Unfolded\", the recurrence step is 20.</li>   \n",
    "    <li>The structure is like this:\n",
    "        <ul>\n",
    "            <li>200 input units -> [200x200] Weight -> 200 Hidden units (first layer) -> [200x200] Weight matrix  -> 200 Hidden units (second layer) ->  [200] weight Matrix -> 200 unit output</li>\n",
    "        </ul>\n",
    "    </li>\n",
    "</ul>\n",
    "<br>\n",
    "\n",
    "Input layer: \n",
    "\n",
    "<ul>\n",
    "    <li>The network has 200 input units.</li>\n",
    "    <li>Suppose each word is represented by an embedding vector of dimensionality e=200. The input layer of each cell will have 200 linear units. These e=200 linear units are connected to each of the h=200 LSTM units in the hidden layer (assuming there is only one hidden layer, though our case has 2 layers).\n",
    "    </li>\n",
    "    <li>The input shape is [batch_size, num_steps], that is [30x20]. It will turn into [30x20x200] after embedding, and then 20x[30x200]\n",
    "    </li>\n",
    "</ul>\n",
    "<br>\n",
    "\n",
    "Hidden layer:\n",
    "\n",
    "<ul>\n",
    "    <li>Each LSTM has 200 hidden units which is equivalent to the dimensionality of the embedding words and output.</li>\n",
    "</ul>\n",
    "<br>\n"
   ]
  },
  {
   "cell_type": "markdown",
   "metadata": {
    "button": false,
    "new_sheet": false,
    "run_control": {
     "read_only": false
    }
   },
   "source": [
    "There is a lot to be done and a ton of information to process at the same time, so go over this code slowly. It may seem complex at first, but if you try to apply what you just learned about language modeling to the code you see, you should be able to understand it.\n",
    "\n",
    "This code is adapted from the <a href=\"https://github.com/tensorflow/models\">PTBModel</a> example bundled with the TensorFlow source code.\n",
    "\n",
    "<h3>Training data</h3>\n",
    "\n",
    "The story starts from data:\n",
    "<ul>\n",
    "    <li>Train data is a list of words, of size 929589, represented by numbers, e.g. [9971, 9972, 9974, 9975,...]</li>\n",
    "    <li>We read data as mini-batch of size b=30. Assume the size of each sentence is 20 words (num_steps = 20). Then it will take $$floor(\\frac{N}{b \\times h})+1=1548$$ iterations for the learner to go through all sentences once. Where N is the size of the list of words, b is batch size, and h is size of each sentence. So, the number of iterators is 1548\n",
    "    </li>\n",
    "    <li>Each batch data is read from train dataset of size 600, and shape of [30x20]</li>\n",
    "</ul>\n"
   ]
  },
  {
   "cell_type": "code",
   "execution_count": 7,
   "metadata": {
    "button": false,
    "new_sheet": false,
    "run_control": {
     "read_only": false
    }
   },
   "outputs": [],
   "source": [
    "# Read the data and separate it into training data, validation data and testing data\n",
    "raw_data = reader.ptb_raw_data(data_dir)\n",
    "train_data, valid_data, test_data, vocab, word_to_id = raw_data"
   ]
  },
  {
   "cell_type": "code",
   "execution_count": 8,
   "metadata": {},
   "outputs": [
    {
     "data": {
      "text/plain": [
       "929589"
      ]
     },
     "execution_count": 8,
     "metadata": {},
     "output_type": "execute_result"
    }
   ],
   "source": [
    "len(train_data)"
   ]
  },
  {
   "cell_type": "code",
   "execution_count": 9,
   "metadata": {
    "tags": []
   },
   "outputs": [
    {
     "name": "stdout",
     "output_type": "stream",
     "text": [
      "['aer', 'banknote', 'berlitz', 'calloway', 'centrust', 'cluett', 'fromstein', 'gitano', 'guterman', 'hydro-quebec', 'ipo', 'kia', 'memotec', 'mlx', 'nahb', 'punts', 'rake', 'regatta', 'rubens', 'sim', 'snack-food', 'ssangyong', 'swapo', 'wachter', '<eos>', 'pierre', '<unk>', 'N', 'years', 'old', 'will', 'join', 'the', 'board', 'as', 'a', 'nonexecutive', 'director', 'nov.', 'N', '<eos>', 'mr.', '<unk>', 'is', 'chairman', 'of', '<unk>', 'n.v.', 'the', 'dutch', 'publishing', 'group', '<eos>', 'rudolph', '<unk>', 'N', 'years', 'old', 'and', 'former', 'chairman', 'of', 'consolidated', 'gold', 'fields', 'plc', 'was', 'named', 'a', 'nonexecutive', 'director', 'of', 'this', 'british', 'industrial', 'conglomerate', '<eos>', 'a', 'form', 'of', 'asbestos', 'once', 'used', 'to', 'make', 'kent', 'cigarette', 'filters', 'has', 'caused', 'a', 'high', 'percentage', 'of', 'cancer', 'deaths', 'among', 'a', 'group', 'of']\n"
     ]
    }
   ],
   "source": [
    "def id_to_word(id_list):\n",
    "    line = []\n",
    "    for w in id_list:\n",
    "        for word, wid in word_to_id.items():\n",
    "            if wid == w:\n",
    "                line.append(word)\n",
    "    return line            \n",
    "                \n",
    "\n",
    "print(id_to_word(train_data[0:100]))"
   ]
  },
  {
   "cell_type": "markdown",
   "metadata": {
    "button": false,
    "new_sheet": false,
    "run_control": {
     "read_only": false
    }
   },
   "source": [
    "Let's just read one mini-batch now and feed our network:\n"
   ]
  },
  {
   "cell_type": "code",
   "execution_count": 10,
   "metadata": {
    "button": false,
    "new_sheet": false,
    "run_control": {
     "read_only": false
    }
   },
   "outputs": [],
   "source": [
    "itera = reader.ptb_iterator(train_data, batch_size, num_steps)\n",
    "first_touple = itera.__next__()\n",
    "_input_data = first_touple[0]\n",
    "_targets = first_touple[1]"
   ]
  },
  {
   "cell_type": "code",
   "execution_count": 11,
   "metadata": {
    "button": false,
    "new_sheet": false,
    "run_control": {
     "read_only": false
    }
   },
   "outputs": [
    {
     "data": {
      "text/plain": [
       "(30, 20)"
      ]
     },
     "execution_count": 11,
     "metadata": {},
     "output_type": "execute_result"
    }
   ],
   "source": [
    "_input_data.shape"
   ]
  },
  {
   "cell_type": "code",
   "execution_count": 12,
   "metadata": {},
   "outputs": [
    {
     "data": {
      "text/plain": [
       "(30, 20)"
      ]
     },
     "execution_count": 12,
     "metadata": {},
     "output_type": "execute_result"
    }
   ],
   "source": [
    "_targets.shape"
   ]
  },
  {
   "cell_type": "markdown",
   "metadata": {
    "button": false,
    "new_sheet": false,
    "run_control": {
     "read_only": false
    }
   },
   "source": [
    "Let's look at 3 sentences of our input data:\n"
   ]
  },
  {
   "cell_type": "code",
   "execution_count": 13,
   "metadata": {
    "button": false,
    "new_sheet": false,
    "run_control": {
     "read_only": false
    }
   },
   "outputs": [
    {
     "data": {
      "text/plain": [
       "array([[9970, 9971, 9972, 9974, 9975, 9976, 9980, 9981, 9982, 9983, 9984,\n",
       "        9986, 9987, 9988, 9989, 9991, 9992, 9993, 9994, 9995],\n",
       "       [2654,    6,  334, 2886,    4,    1,  233,  711,  834,   11,  130,\n",
       "         123,    7,  514,    2,   63,   10,  514,    8,  605],\n",
       "       [   0, 1071,    4,    0,  185,   24,  368,   20,   31, 3109,  954,\n",
       "          12,    3,   21,    2, 2915,    2,   12,    3,   21]],\n",
       "      dtype=int32)"
      ]
     },
     "execution_count": 13,
     "metadata": {},
     "output_type": "execute_result"
    }
   ],
   "source": [
    "_input_data[0:3]"
   ]
  },
  {
   "cell_type": "code",
   "execution_count": 14,
   "metadata": {},
   "outputs": [
    {
     "name": "stdout",
     "output_type": "stream",
     "text": [
      "['aer', 'banknote', 'berlitz', 'calloway', 'centrust', 'cluett', 'fromstein', 'gitano', 'guterman', 'hydro-quebec', 'ipo', 'kia', 'memotec', 'mlx', 'nahb', 'punts', 'rake', 'regatta', 'rubens', 'sim']\n"
     ]
    }
   ],
   "source": [
    "print(id_to_word(_input_data[0,:]))"
   ]
  },
  {
   "cell_type": "markdown",
   "metadata": {
    "button": false,
    "new_sheet": false,
    "run_control": {
     "read_only": false
    }
   },
   "source": [
    "<h3>Embeddings</h3>\n",
    "\n",
    "We have to convert the words in our dataset to vectors of numbers. The traditional approach is to use one-hot encoding method that is usually used for converting categorical values to numerical values. However, One-hot encoded vectors are high-dimensional, sparse and in a big dataset, computationally inefficient. So, we use word2vec approach. It is, in fact, a layer in our LSTM network, where the word IDs will be represented as a dense representation before feeding to the LSTM. \n",
    "\n",
    "The embedded vectors also get updated during the training process of the deep neural network.\n",
    "We create the embeddings for our input data. <b>embedding_vocab</b> is a matrix of [10000x200] for all 10000 unique words.\n"
   ]
  },
  {
   "cell_type": "markdown",
   "metadata": {
    "button": false,
    "new_sheet": false,
    "run_control": {
     "read_only": false
    }
   },
   "source": [
    "<b>embedding_layer()</b> finds the embedded values for our batch of 30x20 words. It  goes to each row of <code>input_data</code>, and for each word in the row/sentence, finds the corresponding vector in <code>embedding_vocab</code>.<br>\n",
    "It creates a [30x20x200] tensor, so, the first element of <b>inputs</b> (the first sentence), is a matrix of 20x200, and each row of it is a vector representing a word in the sentence.\n"
   ]
  },
  {
   "cell_type": "code",
   "execution_count": 15,
   "metadata": {},
   "outputs": [],
   "source": [
    "embedding_layer = tf.keras.layers.Embedding(vocab_size, embeding_vector_size,batch_input_shape=(batch_size, num_steps),trainable=True,name=\"embedding_vocab\")  "
   ]
  },
  {
   "cell_type": "code",
   "execution_count": 16,
   "metadata": {},
   "outputs": [
    {
     "data": {
      "text/plain": [
       "<tf.Tensor: shape=(30, 20, 200), dtype=float32, numpy=\n",
       "array([[[ 2.33468451e-02, -4.33532260e-02, -1.56040676e-02, ...,\n",
       "         -2.99908053e-02, -3.71358991e-02,  4.85899299e-03],\n",
       "        [ 3.51093523e-02, -5.77510521e-03,  1.33581497e-02, ...,\n",
       "          4.64004762e-02,  4.61843945e-02,  1.59041025e-02],\n",
       "        [ 3.98674645e-02,  1.72513761e-02, -3.57761756e-02, ...,\n",
       "          2.75026448e-02,  3.67029756e-03,  4.96090688e-02],\n",
       "        ...,\n",
       "        [-4.13547531e-02,  4.25012223e-02,  4.41501252e-02, ...,\n",
       "          2.91041285e-03, -3.93267982e-02,  2.62049325e-02],\n",
       "        [ 9.42088664e-04, -4.50122617e-02, -4.22453061e-02, ...,\n",
       "         -2.83442736e-02, -2.98824199e-02, -4.46299426e-02],\n",
       "        [-2.72616278e-02,  4.18567769e-02,  3.61617543e-02, ...,\n",
       "          2.46174075e-02, -4.78995703e-02, -2.71362662e-02]],\n",
       "\n",
       "       [[ 2.11851485e-02, -2.45233420e-02, -2.90982258e-02, ...,\n",
       "         -4.76510040e-02, -1.09989271e-02, -2.39965320e-02],\n",
       "        [ 3.24438550e-02, -1.32979043e-02, -2.46215351e-02, ...,\n",
       "          3.59536298e-02,  2.00722367e-03, -1.98855400e-02],\n",
       "        [-2.31799483e-02, -4.09655571e-02,  3.77737619e-02, ...,\n",
       "          3.35449837e-02, -2.20919605e-02, -1.43477097e-02],\n",
       "        ...,\n",
       "        [ 4.55729254e-02,  3.66264023e-02,  2.26510428e-02, ...,\n",
       "         -7.57886097e-03,  3.80380042e-02,  2.94284560e-02],\n",
       "        [ 2.77996697e-02, -4.37172651e-02,  8.36615637e-03, ...,\n",
       "          4.98345159e-02,  1.98595561e-02, -3.66000086e-03],\n",
       "        [-4.10451069e-02,  1.59582980e-02,  4.39780951e-03, ...,\n",
       "         -4.26449627e-03, -9.05583054e-03,  3.24130058e-03]],\n",
       "\n",
       "       [[ 8.39872286e-03, -3.54599208e-04, -3.27245221e-02, ...,\n",
       "          5.10131195e-03, -2.21026670e-02,  3.89760248e-02],\n",
       "        [-2.23380923e-02, -4.50988300e-02,  2.32615210e-02, ...,\n",
       "         -4.06720266e-02, -3.22541222e-02,  4.49972637e-02],\n",
       "        [-1.77305341e-02, -2.61703879e-03, -3.85090932e-02, ...,\n",
       "          2.98129432e-02, -4.14904468e-02, -4.39947844e-02],\n",
       "        ...,\n",
       "        [-3.09924968e-02,  1.88228227e-02,  3.38001959e-02, ...,\n",
       "         -3.73961814e-02, -8.31806660e-03,  1.84093788e-03],\n",
       "        [-4.84165661e-02, -3.15074995e-03,  4.04820591e-03, ...,\n",
       "          2.28029601e-02,  2.26156823e-02, -1.82304159e-02],\n",
       "        [-5.20703942e-03,  4.80482019e-02,  4.79516871e-02, ...,\n",
       "          1.30071156e-02,  4.88618501e-02,  4.20698263e-02]],\n",
       "\n",
       "       ...,\n",
       "\n",
       "       [[ 4.02971841e-02, -6.64849207e-03,  1.59757473e-02, ...,\n",
       "         -1.83467157e-02, -1.04761124e-02,  3.73394378e-02],\n",
       "        [-4.33449149e-02,  4.25447933e-02,  9.64504480e-03, ...,\n",
       "          3.31326835e-02,  5.14841080e-03, -3.25192213e-02],\n",
       "        [ 5.02900034e-03,  4.29366864e-02,  2.43986882e-02, ...,\n",
       "         -7.67803192e-03, -1.33684278e-02,  2.95933820e-02],\n",
       "        ...,\n",
       "        [ 2.43952535e-02,  3.53787281e-02,  4.95918654e-02, ...,\n",
       "          6.99442625e-03, -3.22993770e-02,  1.20739825e-02],\n",
       "        [ 3.00000794e-02,  3.87779810e-02,  2.91955210e-02, ...,\n",
       "         -4.71678972e-02,  2.12594531e-02, -3.69862542e-02],\n",
       "        [-2.19339132e-02,  9.11798328e-03, -4.44476493e-02, ...,\n",
       "         -4.98749726e-02,  3.53014506e-02,  6.26281649e-03]],\n",
       "\n",
       "       [[-4.71704379e-02, -3.01293619e-02,  1.62104405e-02, ...,\n",
       "          4.26290296e-02, -4.56789136e-02,  1.16687045e-02],\n",
       "        [ 2.44541653e-02, -2.32750531e-02,  4.92207296e-02, ...,\n",
       "          3.96010913e-02,  3.36765759e-02,  3.33806612e-02],\n",
       "        [-1.77305341e-02, -2.61703879e-03, -3.85090932e-02, ...,\n",
       "          2.98129432e-02, -4.14904468e-02, -4.39947844e-02],\n",
       "        ...,\n",
       "        [-3.23835164e-02,  2.62988843e-02, -1.01595521e-02, ...,\n",
       "         -5.08800149e-05, -3.90757918e-02, -3.17481533e-02],\n",
       "        [ 3.24438550e-02, -1.32979043e-02, -2.46215351e-02, ...,\n",
       "          3.59536298e-02,  2.00722367e-03, -1.98855400e-02],\n",
       "        [-1.89641472e-02, -2.30561383e-02, -2.81186029e-03, ...,\n",
       "         -4.50491793e-02,  4.88175638e-02, -1.34118088e-02]],\n",
       "\n",
       "       [[ 1.36055015e-02,  4.73189391e-02, -3.44307423e-02, ...,\n",
       "          4.01975624e-02, -2.64951233e-02, -4.09370437e-02],\n",
       "        [-1.77265890e-02,  2.29279734e-02,  4.82339971e-02, ...,\n",
       "          3.81406210e-02, -3.41450348e-02,  2.47499086e-02],\n",
       "        [ 1.64736547e-02,  2.55704559e-02, -3.43120471e-02, ...,\n",
       "          2.17323378e-03, -4.04062979e-02, -2.68080961e-02],\n",
       "        ...,\n",
       "        [-5.29698282e-03, -1.69176683e-02,  8.09061527e-03, ...,\n",
       "          3.50062288e-02, -8.67545605e-03, -3.63193825e-03],\n",
       "        [ 9.08845663e-03, -3.76750343e-02, -4.44964059e-02, ...,\n",
       "         -3.34033147e-02, -2.80997902e-03,  2.72416733e-02],\n",
       "        [-2.23099068e-03,  3.39463465e-02, -2.34814640e-02, ...,\n",
       "         -1.52015463e-02,  7.72587210e-03,  7.18867779e-03]]],\n",
       "      dtype=float32)>"
      ]
     },
     "execution_count": 16,
     "metadata": {},
     "output_type": "execute_result"
    }
   ],
   "source": [
    "# Define where to get the data for our embeddings from\n",
    "inputs = embedding_layer(_input_data)\n",
    "inputs"
   ]
  },
  {
   "cell_type": "markdown",
   "metadata": {},
   "source": [
    "<h3>Constructing Recurrent Neural Networks</h3>\n"
   ]
  },
  {
   "cell_type": "markdown",
   "metadata": {
    "button": false,
    "new_sheet": false,
    "run_control": {
     "read_only": false
    }
   },
   "source": [
    "In this step, we create the stacked LSTM using <b>tf.keras.layers.StackedRNNCells</b>, which is a 2 layer LSTM network:\n"
   ]
  },
  {
   "cell_type": "code",
   "execution_count": 17,
   "metadata": {},
   "outputs": [],
   "source": [
    "lstm_cell_l1 = tf.keras.layers.LSTMCell(hidden_size_l1)\n",
    "lstm_cell_l2 = tf.keras.layers.LSTMCell(hidden_size_l2)"
   ]
  },
  {
   "cell_type": "code",
   "execution_count": 18,
   "metadata": {
    "button": false,
    "new_sheet": false,
    "run_control": {
     "read_only": false
    }
   },
   "outputs": [],
   "source": [
    "stacked_lstm = tf.keras.layers.StackedRNNCells([lstm_cell_l1, lstm_cell_l2])"
   ]
  },
  {
   "cell_type": "markdown",
   "metadata": {},
   "source": [
    "<b>tf.keras.layers.RNN</b> creates a recurrent neural network using <b>stacked_lstm</b>. \n",
    "\n",
    "The input should be a Tensor of shape: [batch_size, max_time, embedding_vector_size], in our case it would be (30, 20, 200)\n"
   ]
  },
  {
   "cell_type": "code",
   "execution_count": 19,
   "metadata": {},
   "outputs": [],
   "source": [
    "layer  =  tf.keras.layers.RNN(stacked_lstm,[batch_size, num_steps],return_state=False,stateful=True,trainable=True)"
   ]
  },
  {
   "cell_type": "markdown",
   "metadata": {
    "button": false,
    "new_sheet": false,
    "run_control": {
     "read_only": false
    }
   },
   "source": [
    "Also, we initialize the states of the nework:\n",
    "\n",
    "<h4>_initial_state</h4>\n",
    "\n",
    "For each LSTM, there are 2 state matrices, c_state and m_state.  c_state and m_state represent \"Memory State\" and \"Cell State\". Each hidden layer, has a vector of size 30, which keeps the states. so, for 200 hidden units in each LSTM, we have a matrix of size [30x200]\n"
   ]
  },
  {
   "cell_type": "code",
   "execution_count": 20,
   "metadata": {},
   "outputs": [],
   "source": [
    "init_state = tf.Variable(tf.zeros([batch_size,embeding_vector_size]),trainable=False)"
   ]
  },
  {
   "cell_type": "code",
   "execution_count": 21,
   "metadata": {},
   "outputs": [],
   "source": [
    "layer.inital_state = init_state"
   ]
  },
  {
   "cell_type": "code",
   "execution_count": 22,
   "metadata": {},
   "outputs": [
    {
     "data": {
      "text/plain": [
       "<tf.Variable 'Variable:0' shape=(30, 200) dtype=float32, numpy=\n",
       "array([[0., 0., 0., ..., 0., 0., 0.],\n",
       "       [0., 0., 0., ..., 0., 0., 0.],\n",
       "       [0., 0., 0., ..., 0., 0., 0.],\n",
       "       ...,\n",
       "       [0., 0., 0., ..., 0., 0., 0.],\n",
       "       [0., 0., 0., ..., 0., 0., 0.],\n",
       "       [0., 0., 0., ..., 0., 0., 0.]], dtype=float32)>"
      ]
     },
     "execution_count": 22,
     "metadata": {},
     "output_type": "execute_result"
    }
   ],
   "source": [
    "layer.inital_state"
   ]
  },
  {
   "cell_type": "markdown",
   "metadata": {},
   "source": [
    "so, lets look at the outputs. The output of the stackedLSTM comes from 128 hidden_layer, and in each time step(=20), one of them get activated. we use the linear activation to map the 128 hidden layer to a [30X20 matrix]\n"
   ]
  },
  {
   "cell_type": "code",
   "execution_count": 23,
   "metadata": {},
   "outputs": [],
   "source": [
    "outputs = layer(inputs)"
   ]
  },
  {
   "cell_type": "code",
   "execution_count": 24,
   "metadata": {},
   "outputs": [
    {
     "data": {
      "text/plain": [
       "<tf.Tensor: shape=(30, 20, 128), dtype=float32, numpy=\n",
       "array([[[-3.4652109e-04,  1.4000932e-03,  1.0244080e-03, ...,\n",
       "         -4.5566502e-04,  3.5155975e-04,  6.3995901e-04],\n",
       "        [ 1.0310141e-03,  2.8572427e-03,  1.7659491e-03, ...,\n",
       "          1.4529520e-04,  6.7693321e-04,  1.4163515e-03],\n",
       "        [ 2.6287404e-03,  2.3793681e-03,  4.9292785e-04, ...,\n",
       "          1.8866891e-03,  9.4331068e-04, -2.9192391e-04],\n",
       "        ...,\n",
       "        [-3.5715741e-03, -4.4468883e-04, -4.5401498e-04, ...,\n",
       "         -3.0170495e-03, -6.7146504e-03,  1.9778134e-03],\n",
       "        [-2.8211591e-03, -5.8024627e-04,  1.2801427e-05, ...,\n",
       "         -9.4155740e-04, -6.9870227e-03,  1.7163185e-03],\n",
       "        [-2.6742979e-03,  1.1869852e-03, -3.3842254e-04, ...,\n",
       "          7.5253664e-04, -7.1064061e-03,  2.9523170e-03]],\n",
       "\n",
       "       [[ 2.3761603e-04,  4.6321194e-04, -7.9934578e-04, ...,\n",
       "          6.1691622e-04,  1.4858013e-03, -2.9901557e-05],\n",
       "        [-1.4779274e-04,  8.6623442e-04, -6.5707177e-04, ...,\n",
       "         -4.8966176e-04,  8.1634877e-04,  8.4881925e-05],\n",
       "        [-9.7744784e-04,  2.3100690e-03, -1.3587057e-03, ...,\n",
       "         -2.4560501e-04, -8.1895496e-04,  7.8709150e-04],\n",
       "        ...,\n",
       "        [-6.1251512e-03, -3.5626517e-04,  7.0324545e-03, ...,\n",
       "          5.5602253e-03,  4.2570973e-05, -1.3498064e-03],\n",
       "        [-5.8360435e-03, -7.1412200e-05,  7.5610545e-03, ...,\n",
       "          4.9501387e-03, -4.2783967e-04,  3.6829172e-04],\n",
       "        [-5.6942585e-03,  4.3392050e-04,  8.1194555e-03, ...,\n",
       "          5.1434268e-03, -1.0740027e-03,  1.0132879e-03]],\n",
       "\n",
       "       [[ 2.0247339e-03,  1.6348224e-04,  2.9825553e-04, ...,\n",
       "          4.9579336e-04, -1.1591017e-03,  5.6945422e-04],\n",
       "        [ 3.1890669e-03,  3.2884677e-04,  2.5185689e-04, ...,\n",
       "          1.1903666e-03, -1.1587908e-03, -3.9156302e-04],\n",
       "        [ 3.1721720e-03,  1.7126219e-03,  7.1334996e-04, ...,\n",
       "          1.3378458e-03, -8.5849222e-04, -6.0265086e-04],\n",
       "        ...,\n",
       "        [ 2.2766022e-03, -6.0216198e-03, -4.3606144e-04, ...,\n",
       "         -1.7367230e-03,  6.4209307e-04, -1.1228135e-02],\n",
       "        [ 3.3550540e-03, -8.2119573e-03,  1.3478674e-04, ...,\n",
       "         -2.5221186e-03,  3.3262506e-04, -1.2037467e-02],\n",
       "        [ 2.7635561e-03, -1.0681300e-02,  8.7276375e-04, ...,\n",
       "         -2.7508242e-03,  3.3045650e-04, -1.2703795e-02]],\n",
       "\n",
       "       ...,\n",
       "\n",
       "       [[-3.6301449e-04, -2.9484698e-04, -4.3259226e-04, ...,\n",
       "          1.3514422e-04,  2.9431688e-04,  1.2837409e-03],\n",
       "        [ 2.3761908e-04, -5.9102371e-04, -1.8284696e-03, ...,\n",
       "         -2.6929536e-05,  1.5629678e-03,  2.0109687e-03],\n",
       "        [ 7.9563697e-04,  8.0507481e-04, -4.9542729e-03, ...,\n",
       "          5.9705542e-04,  3.1283579e-03,  2.4846911e-03],\n",
       "        ...,\n",
       "        [-2.0674741e-04, -7.1211988e-03,  2.7273069e-04, ...,\n",
       "         -3.6465009e-03, -4.8999750e-04, -2.5078704e-04],\n",
       "        [ 3.3764497e-04, -6.5436009e-03, -5.1484245e-04, ...,\n",
       "         -3.0612380e-03, -4.8923213e-04, -1.7758119e-03],\n",
       "        [ 2.5446434e-04, -5.4183984e-03, -9.8778249e-04, ...,\n",
       "         -2.6634859e-03,  5.6049239e-04, -1.7163121e-03]],\n",
       "\n",
       "       [[-7.1823219e-04, -5.9500002e-05,  6.6826574e-04, ...,\n",
       "          6.3122495e-04, -3.6564076e-04, -8.7312411e-04],\n",
       "        [-1.2049086e-04, -4.8615399e-04,  1.5192835e-03, ...,\n",
       "          6.2191492e-04, -1.2369870e-03,  2.1747495e-05],\n",
       "        [ 2.7380651e-04,  4.9391488e-04,  2.7172433e-03, ...,\n",
       "          9.4151782e-04, -1.5242820e-03,  9.8333834e-04],\n",
       "        ...,\n",
       "        [-1.9642874e-04,  4.2480412e-03, -5.1643485e-03, ...,\n",
       "          3.3832761e-03,  2.8355198e-03, -1.6925229e-05],\n",
       "        [ 3.7001503e-06,  5.0149267e-03, -4.4109542e-03, ...,\n",
       "          2.4989508e-03,  1.1497189e-03, -4.3803180e-04],\n",
       "        [-5.7407463e-04,  4.7280905e-03, -4.4360193e-03, ...,\n",
       "          1.3426272e-03, -3.7876409e-04, -6.9278973e-04]],\n",
       "\n",
       "       [[ 9.1298280e-04,  7.8794971e-04,  8.4415165e-04, ...,\n",
       "          4.4055760e-05, -1.7791797e-04,  6.3444505e-04],\n",
       "        [-1.8401889e-04,  1.8254825e-04,  2.3418788e-03, ...,\n",
       "          2.8304718e-04,  4.5276480e-04,  1.9888105e-03],\n",
       "        [-1.5952245e-03, -2.5509161e-04,  4.6739941e-03, ...,\n",
       "          4.7996634e-04,  3.0778072e-04,  3.0912764e-03],\n",
       "        ...,\n",
       "        [ 1.0004212e-03,  6.5346593e-03,  3.5195015e-04, ...,\n",
       "          2.1728945e-03,  7.0091657e-04, -7.0181377e-03],\n",
       "        [ 1.1902428e-03,  7.4335798e-03, -1.9979499e-04, ...,\n",
       "          2.8346430e-03,  8.5715967e-04, -4.5498074e-03],\n",
       "        [ 7.0671056e-04,  6.3583222e-03, -2.0351820e-03, ...,\n",
       "          3.7291858e-03,  9.9186529e-04, -3.6479738e-03]]], dtype=float32)>"
      ]
     },
     "execution_count": 24,
     "metadata": {},
     "output_type": "execute_result"
    }
   ],
   "source": [
    "outputs"
   ]
  },
  {
   "cell_type": "markdown",
   "metadata": {
    "button": false,
    "new_sheet": false,
    "run_control": {
     "read_only": false
    }
   },
   "source": [
    "<h2>Dense layer</h2>\n",
    "We now create densely-connected neural network layer that would reshape the outputs tensor from  [30 x 20 x 128] to [30 x 20 x 10000].\n"
   ]
  },
  {
   "cell_type": "code",
   "execution_count": 25,
   "metadata": {},
   "outputs": [],
   "source": [
    "dense = tf.keras.layers.Dense(vocab_size)"
   ]
  },
  {
   "cell_type": "code",
   "execution_count": 26,
   "metadata": {},
   "outputs": [],
   "source": [
    "logits_outputs  = dense(outputs)"
   ]
  },
  {
   "cell_type": "code",
   "execution_count": 27,
   "metadata": {},
   "outputs": [
    {
     "name": "stdout",
     "output_type": "stream",
     "text": [
      "shape of the output from dense layer:  (30, 20, 10000)\n"
     ]
    }
   ],
   "source": [
    "print(\"shape of the output from dense layer: \", logits_outputs.shape) #(batch_size, sequence_length, vocab_size)"
   ]
  },
  {
   "cell_type": "markdown",
   "metadata": {},
   "source": [
    "<h2>Activation layer</h2>\n",
    "\n",
    "A softmax activation layer is also then applied to derive the probability of the output being in any of the multiclass(10000 in this case) possibilities. \n"
   ]
  },
  {
   "cell_type": "code",
   "execution_count": 28,
   "metadata": {},
   "outputs": [],
   "source": [
    "activation = tf.keras.layers.Activation('softmax')"
   ]
  },
  {
   "cell_type": "code",
   "execution_count": 29,
   "metadata": {},
   "outputs": [],
   "source": [
    "output_words_prob = activation(logits_outputs)"
   ]
  },
  {
   "cell_type": "code",
   "execution_count": 30,
   "metadata": {},
   "outputs": [
    {
     "name": "stdout",
     "output_type": "stream",
     "text": [
      "shape of the output from the activation layer:  (30, 20, 10000)\n"
     ]
    }
   ],
   "source": [
    "print(\"shape of the output from the activation layer: \", output_words_prob.shape) #(batch_size, sequence_length, vocab_size)"
   ]
  },
  {
   "cell_type": "markdown",
   "metadata": {},
   "source": [
    "Let's look at the probability of observing words for t=0 to t=20:\n"
   ]
  },
  {
   "cell_type": "code",
   "execution_count": 31,
   "metadata": {},
   "outputs": [
    {
     "name": "stdout",
     "output_type": "stream",
     "text": [
      "The probability of observing words in t=0 to t=20 tf.Tensor(\n",
      "[[9.99926488e-05 1.00003410e-04 9.99878612e-05 ... 1.00027202e-04\n",
      "  1.00004901e-04 1.00008117e-04]\n",
      " [9.99704498e-05 9.99829645e-05 1.00003788e-04 ... 1.00035497e-04\n",
      "  1.00016914e-04 1.00003512e-04]\n",
      " [9.99514086e-05 9.99729527e-05 1.00020938e-04 ... 1.00048492e-04\n",
      "  1.00040728e-04 9.99742333e-05]\n",
      " ...\n",
      " [1.00009143e-04 9.99985568e-05 1.00028636e-04 ... 9.99699914e-05\n",
      "  9.99520707e-05 1.00072721e-04]\n",
      " [1.00035701e-04 9.99801632e-05 1.00038291e-04 ... 9.99859549e-05\n",
      "  9.99459298e-05 1.00069388e-04]\n",
      " [1.00033540e-04 1.00010351e-04 1.00039273e-04 ... 9.99760232e-05\n",
      "  9.99371841e-05 1.00047590e-04]], shape=(20, 10000), dtype=float32)\n"
     ]
    }
   ],
   "source": [
    "print(\"The probability of observing words in t=0 to t=20\", output_words_prob[0,0:num_steps])"
   ]
  },
  {
   "cell_type": "markdown",
   "metadata": {
    "button": false,
    "new_sheet": false,
    "run_control": {
     "read_only": false
    }
   },
   "source": [
    "<h3>Prediction</h3>\n",
    "What is the word correspond to the probability output? Lets use the maximum probability:\n"
   ]
  },
  {
   "cell_type": "code",
   "execution_count": 32,
   "metadata": {},
   "outputs": [
    {
     "data": {
      "text/plain": [
       "array([  42, 8412, 7300, 7300, 7300, 3903, 6357, 6357, 8079, 8079, 8079,\n",
       "       8079, 8079, 8079, 8079, 8079, 8934, 8934, 7171, 7048])"
      ]
     },
     "execution_count": 32,
     "metadata": {},
     "output_type": "execute_result"
    }
   ],
   "source": [
    "np.argmax(output_words_prob[0,0:num_steps], axis=1)"
   ]
  },
  {
   "cell_type": "markdown",
   "metadata": {
    "button": false,
    "new_sheet": false,
    "run_control": {
     "read_only": false
    }
   },
   "source": [
    "So, what is the ground truth for the first word of first sentence? You can get it from target tensor, if you want to find the embedding vector: \n"
   ]
  },
  {
   "cell_type": "code",
   "execution_count": 33,
   "metadata": {
    "button": false,
    "new_sheet": false,
    "run_control": {
     "read_only": false
    }
   },
   "outputs": [
    {
     "data": {
      "text/plain": [
       "array([9971, 9972, 9974, 9975, 9976, 9980, 9981, 9982, 9983, 9984, 9986,\n",
       "       9987, 9988, 9989, 9991, 9992, 9993, 9994, 9995, 9996], dtype=int32)"
      ]
     },
     "execution_count": 33,
     "metadata": {},
     "output_type": "execute_result"
    }
   ],
   "source": [
    "_targets[0]"
   ]
  },
  {
   "cell_type": "markdown",
   "metadata": {
    "button": false,
    "new_sheet": false,
    "run_control": {
     "read_only": false
    }
   },
   "source": [
    "<h4>Objective function</h4>\n",
    "\n",
    "How similar are the predicted words to the target words?\n",
    "\n",
    "Now we have to define our objective function, to calculate the similarity of predicted values to ground truth, and then, penalize the model with the error. Our objective is to minimize loss function, that is, to minimize the average negative log probability of the target words:\n",
    "\n",
    "$$\\\\text{loss} = -\\\\frac{1}{N}\\\\sum_{i=1}^{N} \\\\ln p_{\\\\text{target}\\_i}$$\n",
    "\n",
    "This function is already implemented and available in TensorFlow through _tf.keras.losses.sparse_categorical_crossentropy_. It calculates the categorical cross-entropy loss for <b>logits</b> and the <b>target</b> sequence.  \n",
    "\n",
    "The arguments of this function are:  \n",
    "\n",
    "<ul>\n",
    "    <li>logits: List of 2D Tensors of shape [batch_size x num_decoder_symbols].</li>  \n",
    "    <li>targets: List of 1D batch-sized int32 Tensors of the same length as logits.</li>   \n",
    "</ul>\n"
   ]
  },
  {
   "cell_type": "code",
   "execution_count": 34,
   "metadata": {},
   "outputs": [],
   "source": [
    "def crossentropy(y_true, y_pred):\n",
    "    return tf.keras.losses.sparse_categorical_crossentropy(y_true, y_pred)"
   ]
  },
  {
   "cell_type": "code",
   "execution_count": 35,
   "metadata": {},
   "outputs": [],
   "source": [
    "loss  = crossentropy(_targets, output_words_prob)"
   ]
  },
  {
   "cell_type": "markdown",
   "metadata": {
    "button": false,
    "new_sheet": false,
    "run_control": {
     "read_only": false
    }
   },
   "source": [
    "Lets look at the first 10 values of loss:\n"
   ]
  },
  {
   "cell_type": "code",
   "execution_count": 36,
   "metadata": {},
   "outputs": [
    {
     "data": {
      "text/plain": [
       "<tf.Tensor: shape=(10,), dtype=float32, numpy=\n",
       "array([9.21028 , 9.210636, 9.210535, 9.210527, 9.209474, 9.209808,\n",
       "       9.210675, 9.210914, 9.210377, 9.209766], dtype=float32)>"
      ]
     },
     "execution_count": 36,
     "metadata": {},
     "output_type": "execute_result"
    }
   ],
   "source": [
    "loss[0,:10]"
   ]
  },
  {
   "cell_type": "markdown",
   "metadata": {},
   "source": [
    "Now, we define cost as average of the losses:\n"
   ]
  },
  {
   "cell_type": "code",
   "execution_count": 37,
   "metadata": {},
   "outputs": [
    {
     "data": {
      "text/plain": [
       "<tf.Tensor: shape=(), dtype=float32, numpy=184.2067>"
      ]
     },
     "execution_count": 37,
     "metadata": {},
     "output_type": "execute_result"
    }
   ],
   "source": [
    "cost = tf.reduce_sum(loss / batch_size)\n",
    "cost"
   ]
  },
  {
   "cell_type": "markdown",
   "metadata": {
    "button": false,
    "new_sheet": false,
    "run_control": {
     "read_only": false
    }
   },
   "source": [
    "<h3>Training</h3>\n",
    "\n",
    "To do training for our network, we have to take the following steps:\n",
    "\n",
    "<ol>\n",
    "    <li>Define the optimizer.</li>\n",
    "    <li>Assemble layers to build model.</li>\n",
    "    <li>Calculate the gradients based on the loss function.</li>\n",
    "    <li>Apply the optimizer to the variables/gradients tuple.</li>\n",
    "</ol>\n"
   ]
  },
  {
   "cell_type": "markdown",
   "metadata": {
    "button": false,
    "new_sheet": false,
    "run_control": {
     "read_only": false
    }
   },
   "source": [
    "<h4>1. Define Optimizer</h4>\n"
   ]
  },
  {
   "cell_type": "code",
   "execution_count": 38,
   "metadata": {},
   "outputs": [],
   "source": [
    "# Create a variable for the learning rate\n",
    "lr = tf.Variable(0.0, trainable=False)\n",
    "optimizer = tf.keras.optimizers.SGD(lr=lr, clipnorm=max_grad_norm)"
   ]
  },
  {
   "cell_type": "markdown",
   "metadata": {},
   "source": [
    "<h4>2. Assemble layers to build model.</h4>\n"
   ]
  },
  {
   "cell_type": "code",
   "execution_count": 39,
   "metadata": {},
   "outputs": [
    {
     "name": "stdout",
     "output_type": "stream",
     "text": [
      "Model: \"sequential\"\n",
      "_________________________________________________________________\n",
      "Layer (type)                 Output Shape              Param #   \n",
      "=================================================================\n",
      "embedding_vocab (Embedding)  (30, 20, 200)             2000000   \n",
      "_________________________________________________________________\n",
      "rnn (RNN)                    (30, 20, 128)             671088    \n",
      "_________________________________________________________________\n",
      "dense (Dense)                (30, 20, 10000)           1290000   \n",
      "_________________________________________________________________\n",
      "activation (Activation)      (30, 20, 10000)           0         \n",
      "=================================================================\n",
      "Total params: 3,961,088\n",
      "Trainable params: 3,955,088\n",
      "Non-trainable params: 6,000\n",
      "_________________________________________________________________\n"
     ]
    }
   ],
   "source": [
    "model = tf.keras.Sequential()\n",
    "model.add(embedding_layer)\n",
    "model.add(layer)\n",
    "model.add(dense)\n",
    "model.add(activation)\n",
    "model.compile(loss=crossentropy, optimizer=optimizer)\n",
    "model.summary()"
   ]
  },
  {
   "cell_type": "markdown",
   "metadata": {
    "button": false,
    "new_sheet": false,
    "run_control": {
     "read_only": false
    }
   },
   "source": [
    "<h4>2. Trainable Variables</h4>\n"
   ]
  },
  {
   "cell_type": "markdown",
   "metadata": {
    "button": false,
    "new_sheet": false,
    "run_control": {
     "read_only": false
    }
   },
   "source": [
    "Defining a variable, if you passed <i>trainable=True</i>, the variable constructor automatically adds new variables to the graph collection <b>GraphKeys.TRAINABLE_VARIABLES</b>. Now, using <i>tf.trainable_variables()</i> you can get all variables created with <b>trainable=True</b>.\n"
   ]
  },
  {
   "cell_type": "code",
   "execution_count": 40,
   "metadata": {
    "button": false,
    "new_sheet": false,
    "run_control": {
     "read_only": false
    }
   },
   "outputs": [],
   "source": [
    "# Get all TensorFlow variables marked as \"trainable\" (i.e. all of them except _lr, which we just created)\n",
    "tvars = model.trainable_variables"
   ]
  },
  {
   "cell_type": "markdown",
   "metadata": {
    "button": false,
    "new_sheet": false,
    "run_control": {
     "read_only": false
    }
   },
   "source": [
    "Note: we can find the name and scope of all variables:\n"
   ]
  },
  {
   "cell_type": "code",
   "execution_count": 41,
   "metadata": {
    "button": false,
    "new_sheet": false,
    "run_control": {
     "read_only": false
    }
   },
   "outputs": [
    {
     "data": {
      "text/plain": [
       "['embedding_vocab/embeddings:0',\n",
       " 'rnn/stacked_rnn_cells/lstm_cell/kernel:0',\n",
       " 'rnn/stacked_rnn_cells/lstm_cell/recurrent_kernel:0',\n",
       " 'rnn/stacked_rnn_cells/lstm_cell/bias:0',\n",
       " 'rnn/stacked_rnn_cells/lstm_cell_1/kernel:0',\n",
       " 'rnn/stacked_rnn_cells/lstm_cell_1/recurrent_kernel:0',\n",
       " 'rnn/stacked_rnn_cells/lstm_cell_1/bias:0',\n",
       " 'dense/kernel:0',\n",
       " 'dense/bias:0']"
      ]
     },
     "execution_count": 41,
     "metadata": {},
     "output_type": "execute_result"
    }
   ],
   "source": [
    "[v.name for v in tvars] "
   ]
  },
  {
   "cell_type": "markdown",
   "metadata": {
    "button": false,
    "new_sheet": false,
    "run_control": {
     "read_only": false
    }
   },
   "source": [
    "<h4>3. Calculate the gradients based on the loss function</h4>\n"
   ]
  },
  {
   "cell_type": "markdown",
   "metadata": {
    "button": false,
    "new_sheet": false,
    "run_control": {
     "read_only": false
    }
   },
   "source": [
    "**Gradient**: The gradient of a function is the slope of its derivative (line), or in other words, the rate of change of a function. It's a vector (a direction to move) that points in the direction of greatest increase of the function, and calculated by the <b>derivative</b> operation.\n"
   ]
  },
  {
   "cell_type": "markdown",
   "metadata": {},
   "source": [
    "First let's recall the gradient function using an toy example:\n",
    "$$ z = \\\\left(2x^2 + 3xy\\\\right)$$\n"
   ]
  },
  {
   "cell_type": "code",
   "execution_count": 42,
   "metadata": {},
   "outputs": [],
   "source": [
    "x = tf.constant(1.0)\n",
    "y =  tf.constant(2.0)\n",
    "with tf.GradientTape(persistent=True) as g:\n",
    "    g.watch(x)\n",
    "    g.watch(y)\n",
    "    func_test = 2 * x * x + 3 * x * y"
   ]
  },
  {
   "cell_type": "markdown",
   "metadata": {},
   "source": [
    "The <b>tf.gradient()</b> function allows you to compute the symbolic gradient of one tensor with respect to one or more other tensors—including variables. <b>tf.gradient(func, xs)</b> constructs symbolic partial derivatives of sum of <b>func</b> w.r.t. <i>x</i> in <b>xs</b>. \n",
    "\n",
    "Now, lets look at the derivative w.r.t. <b>var_x</b>:\n",
    "$$ \\\\frac{\\\\partial \\\\:}{\\\\partial \\\\:x}\\\\left(2x^2 + 3xy\\\\right) = 4x + 3y $$\n"
   ]
  },
  {
   "cell_type": "code",
   "execution_count": 43,
   "metadata": {},
   "outputs": [
    {
     "name": "stdout",
     "output_type": "stream",
     "text": [
      "tf.Tensor(10.0, shape=(), dtype=float32)\n"
     ]
    }
   ],
   "source": [
    "var_grad = g.gradient(func_test, x) # Will compute to 10.0\n",
    "print(var_grad)"
   ]
  },
  {
   "cell_type": "markdown",
   "metadata": {},
   "source": [
    "the derivative w.r.t. <b>var_y</b>:\n",
    "$$ \\\\frac{\\\\partial \\\\:}{\\\\partial \\\\:y}\\\\left(2x^2 + 3xy\\\\right) = 3x $$\n"
   ]
  },
  {
   "cell_type": "code",
   "execution_count": 44,
   "metadata": {},
   "outputs": [
    {
     "name": "stdout",
     "output_type": "stream",
     "text": [
      "tf.Tensor(3.0, shape=(), dtype=float32)\n"
     ]
    }
   ],
   "source": [
    "var_grad = g.gradient(func_test, y) # Will compute to 3.0\n",
    "print(var_grad)"
   ]
  },
  {
   "cell_type": "markdown",
   "metadata": {},
   "source": [
    "Now, we can look at gradients w.r.t all variables:\n"
   ]
  },
  {
   "cell_type": "code",
   "execution_count": 45,
   "metadata": {},
   "outputs": [],
   "source": [
    "with tf.GradientTape() as tape:\n",
    "    # Forward pass.\n",
    "    output_words_prob = model(_input_data)\n",
    "    # Loss value for this batch.\n",
    "    loss  = crossentropy(_targets, output_words_prob)\n",
    "    cost = tf.reduce_sum(loss,axis=0) / batch_size"
   ]
  },
  {
   "cell_type": "code",
   "execution_count": 46,
   "metadata": {},
   "outputs": [],
   "source": [
    "# Get gradients of loss wrt the trainable variables.\n",
    "grad_t_list = tape.gradient(cost, tvars)"
   ]
  },
  {
   "cell_type": "code",
   "execution_count": 47,
   "metadata": {},
   "outputs": [
    {
     "name": "stdout",
     "output_type": "stream",
     "text": [
      "[<tensorflow.python.framework.indexed_slices.IndexedSlices object at 0x7fe0129f74d0>, <tf.Tensor: shape=(200, 1024), dtype=float32, numpy=\n",
      "array([[ 6.3650771e-07, -2.1307089e-07, -4.3232021e-07, ...,\n",
      "         2.9184363e-07, -3.1616705e-07,  2.5504940e-07],\n",
      "       [ 1.6427144e-07,  1.3443885e-06, -3.0478412e-07, ...,\n",
      "        -1.8156102e-07, -1.5133233e-07,  9.1613586e-08],\n",
      "       [-6.0553145e-07,  2.0273838e-07, -3.6919815e-07, ...,\n",
      "        -2.7545088e-08,  2.7777702e-07, -1.4596712e-07],\n",
      "       ...,\n",
      "       [ 4.3072919e-07,  1.1211909e-07,  2.5613094e-06, ...,\n",
      "        -5.1766165e-09,  2.0943951e-07,  5.7104643e-08],\n",
      "       [-8.5627045e-07,  3.3870850e-07, -1.0944809e-06, ...,\n",
      "        -8.3926423e-08, -3.6090793e-08, -3.2159420e-07],\n",
      "       [-3.4373421e-08, -7.0370803e-09, -5.6367719e-07, ...,\n",
      "        -6.9787191e-08, -2.0278881e-07, -1.4457120e-07]], dtype=float32)>, <tf.Tensor: shape=(256, 1024), dtype=float32, numpy=\n",
      "array([[-1.56712304e-07, -2.33320563e-08,  1.35243567e-07, ...,\n",
      "         9.60227453e-09,  6.99817235e-08,  5.71757397e-08],\n",
      "       [-4.67592010e-09, -8.93240752e-08,  2.01198844e-07, ...,\n",
      "        -1.18819450e-07, -1.20935837e-07,  3.43901831e-08],\n",
      "       [-1.69421526e-08, -1.20166789e-07,  3.29329794e-07, ...,\n",
      "        -7.64886536e-08,  2.43144349e-08, -2.67664007e-08],\n",
      "       ...,\n",
      "       [-8.91617802e-09, -2.68689405e-07,  2.28143961e-07, ...,\n",
      "         2.78869749e-07,  4.13390211e-08, -2.45198464e-07],\n",
      "       [-7.20346520e-08,  1.45591681e-08,  6.50207994e-08, ...,\n",
      "         6.45126974e-08,  9.10009206e-08,  6.39399431e-08],\n",
      "       [ 5.76511958e-08,  7.46585513e-08,  1.06567605e-07, ...,\n",
      "        -3.03837275e-08, -1.41991521e-08, -8.06156208e-08]], dtype=float32)>, <tf.Tensor: shape=(1024,), dtype=float32, numpy=\n",
      "array([-1.2876511e-05,  3.0589044e-06, -1.7670383e-05, ...,\n",
      "        2.0729758e-06,  2.6261644e-06, -2.2276517e-05], dtype=float32)>, <tf.Tensor: shape=(256, 512), dtype=float32, numpy=\n",
      "array([[ 2.6662948e-07,  2.3547344e-08, -2.8585737e-07, ...,\n",
      "         1.6079218e-07, -8.4868134e-08,  6.4980082e-07],\n",
      "       [-3.3046706e-07,  1.3716001e-07,  1.7280607e-07, ...,\n",
      "        -2.2963142e-10, -3.1394944e-08,  1.2343256e-07],\n",
      "       [ 3.4466083e-08, -2.0003269e-07, -3.4553803e-08, ...,\n",
      "        -8.6858343e-08, -1.3981676e-08,  4.4966328e-07],\n",
      "       ...,\n",
      "       [ 1.1275890e-07,  1.0349327e-07,  3.1425767e-08, ...,\n",
      "         5.2479618e-07, -4.5744734e-08,  2.4551170e-07],\n",
      "       [ 1.6296008e-07,  9.9762872e-08,  1.6355891e-08, ...,\n",
      "         2.1643928e-08,  1.0769872e-07, -4.2159840e-08],\n",
      "       [ 1.0492975e-07, -3.8465359e-08,  4.9240995e-08, ...,\n",
      "        -5.1145975e-08,  2.6357435e-07, -4.4399633e-07]], dtype=float32)>, <tf.Tensor: shape=(128, 512), dtype=float32, numpy=\n",
      "array([[ 5.24907648e-07, -8.05407439e-08, -1.18987387e-07, ...,\n",
      "         2.56541000e-07, -1.70015326e-07,  9.87836586e-08],\n",
      "       [-9.60691224e-08,  1.23799680e-07, -4.68573056e-08, ...,\n",
      "        -1.97648546e-07,  1.58742949e-07,  1.96952726e-07],\n",
      "       [-4.88969150e-08,  1.45638154e-07, -1.11237615e-08, ...,\n",
      "         1.36447170e-07,  2.83874009e-08,  1.55109348e-07],\n",
      "       ...,\n",
      "       [ 9.16571423e-08,  1.70236177e-07,  5.20375139e-08, ...,\n",
      "         4.63266900e-07,  1.11624246e-07,  2.16652396e-07],\n",
      "       [ 4.97896231e-08,  9.58271613e-08, -1.13945937e-08, ...,\n",
      "         6.49987157e-08,  5.30117461e-08, -9.01418247e-08],\n",
      "       [ 2.81002627e-07,  6.47998561e-08, -2.71442424e-08, ...,\n",
      "         1.39937654e-07,  2.03921076e-08,  7.93480240e-07]], dtype=float32)>, <tf.Tensor: shape=(512,), dtype=float32, numpy=\n",
      "array([-1.49070765e-05,  2.42026526e-05, -2.42744154e-05,  3.82028666e-05,\n",
      "        2.26545162e-05,  1.70439016e-05, -2.63480106e-05, -5.30495072e-07,\n",
      "       -1.27673411e-05,  2.42074075e-05, -1.44145670e-05,  3.98771081e-05,\n",
      "        1.28646507e-05,  6.27372210e-05,  8.70006115e-05,  3.84490340e-05,\n",
      "        2.19976773e-05, -1.87909191e-05, -1.86011021e-05,  8.81786546e-05,\n",
      "        4.24575774e-05,  3.59039404e-05, -4.20865981e-05, -1.40985721e-05,\n",
      "        1.32821515e-04,  4.44556026e-05, -1.13719216e-05,  1.25207534e-05,\n",
      "       -2.63451693e-05,  3.74214796e-05, -1.26316691e-05, -9.73054648e-06,\n",
      "       -2.63682887e-05,  4.15976720e-05, -2.81179709e-05,  3.85427484e-05,\n",
      "        2.83504924e-05, -9.49009518e-07, -7.31763066e-05,  4.73659384e-06,\n",
      "        5.63654285e-05, -1.97210156e-05, -2.00111390e-06, -1.98232010e-05,\n",
      "        5.33948769e-05, -1.93432410e-04,  4.38636016e-05, -4.79598020e-05,\n",
      "        3.09927382e-05, -1.91463550e-06, -1.76100257e-05, -7.41161602e-06,\n",
      "        2.45851925e-06, -4.54947894e-06, -5.16276341e-05, -1.30181588e-05,\n",
      "       -2.58488799e-05,  6.59554498e-05, -5.65992696e-06, -1.51364111e-05,\n",
      "        1.62787583e-05, -2.60527850e-05,  1.86572342e-05,  5.71838464e-05,\n",
      "       -5.83372776e-06, -6.67514978e-05,  3.84899022e-06, -1.95344473e-05,\n",
      "       -2.27424371e-05, -1.19517699e-05, -1.95168668e-05, -1.56778260e-05,\n",
      "        2.78041443e-05, -4.24918471e-06,  1.50025822e-04, -7.95509277e-06,\n",
      "       -2.34535000e-05,  3.47449713e-05, -1.55040434e-05,  8.30991303e-06,\n",
      "        6.32442243e-06,  5.49492052e-06,  6.19410730e-06,  6.88159889e-06,\n",
      "       -1.66465215e-05,  2.59500412e-05,  4.20204969e-06,  3.62043065e-05,\n",
      "       -1.68689021e-05,  1.66114078e-05,  1.88636859e-05,  7.79433321e-07,\n",
      "       -9.49400328e-06, -1.11785906e-04, -3.65808410e-06, -1.26006962e-05,\n",
      "       -1.48319923e-05, -2.59712688e-05,  1.88528102e-05, -8.83339271e-06,\n",
      "       -7.23094581e-06,  2.09179416e-05, -5.83988003e-05, -4.33570931e-05,\n",
      "       -1.96661076e-05, -2.45489900e-07,  2.31217327e-05, -1.10055544e-05,\n",
      "       -2.34405488e-05, -2.56496660e-05, -1.33709822e-04,  3.88682965e-05,\n",
      "        3.03708584e-05, -3.97489930e-05, -2.68959593e-05,  3.27170928e-05,\n",
      "        6.82586178e-05,  5.97486287e-05,  7.81144627e-06,  7.49978881e-06,\n",
      "        4.66591009e-05, -6.06764224e-05,  3.27174967e-05, -1.51664653e-05,\n",
      "        1.70944804e-05,  5.40267320e-05,  1.85501831e-05,  5.26115109e-05,\n",
      "       -2.60711895e-05,  7.53719632e-06, -3.01834571e-05,  5.39587854e-05,\n",
      "        7.41919212e-05, -2.80809945e-06, -2.78663410e-05, -2.53955550e-05,\n",
      "       -8.38843334e-06,  5.48313910e-05, -2.04729877e-05,  6.25979301e-05,\n",
      "        5.53847640e-05,  8.56292318e-05,  1.42202887e-04,  5.86667156e-05,\n",
      "        2.19746707e-05, -4.08321175e-05, -2.29005527e-05,  9.49885216e-05,\n",
      "        3.83069564e-05,  4.79074479e-05, -2.68514123e-05, -7.60677767e-06,\n",
      "        1.74944085e-04,  6.57286291e-05, -3.08625531e-05,  2.04679327e-05,\n",
      "       -5.45864605e-05,  2.38534121e-05, -2.43156101e-05, -2.53878152e-05,\n",
      "       -3.01494474e-05,  7.06775027e-05, -1.13599599e-05,  2.97562092e-05,\n",
      "        1.07310480e-05,  2.22119979e-06, -7.78660979e-05, -7.89995511e-07,\n",
      "        7.89706974e-05, -2.13108942e-05, -8.56953193e-06, -2.81824123e-05,\n",
      "        8.95509438e-05, -3.15708894e-04,  8.23042210e-05, -5.63388603e-05,\n",
      "        1.39561726e-05, -4.60217270e-05, -7.47749436e-06, -1.02578906e-05,\n",
      "        2.25499571e-06, -1.36536028e-06, -6.87855209e-05,  1.43845637e-06,\n",
      "       -5.54101716e-05,  1.02536273e-04, -3.43814536e-05, -3.02520766e-05,\n",
      "       -8.08251662e-06, -3.03895795e-05,  2.24394244e-05,  3.88458429e-05,\n",
      "       -4.88707883e-07, -7.22619152e-05,  5.09681013e-05, -1.30651097e-05,\n",
      "       -2.97801962e-05,  2.21304344e-06, -4.91286228e-05, -2.60941924e-05,\n",
      "        5.11649705e-05,  1.17950804e-05,  2.36232794e-04, -6.93646416e-06,\n",
      "        2.79578398e-06,  7.35319118e-05, -4.09536278e-06,  1.24966409e-05,\n",
      "       -2.55476916e-05,  1.42329354e-05, -1.39200529e-05,  2.19631274e-05,\n",
      "       -2.73663318e-07,  1.82356307e-05,  2.22748149e-05,  4.64914701e-05,\n",
      "       -1.94909371e-05,  4.03473241e-05,  2.71715680e-06, -6.06445656e-06,\n",
      "       -7.26930466e-06, -1.28091444e-04, -2.67168125e-05, -4.51018859e-05,\n",
      "       -6.60624573e-05,  3.65951496e-06,  5.39492066e-06, -4.00073077e-07,\n",
      "        5.16154978e-06,  2.59993085e-05, -5.54552680e-05, -3.29376890e-05,\n",
      "       -2.33315513e-05,  4.84233169e-08,  4.25314029e-05, -1.79215440e-05,\n",
      "       -3.93327246e-05, -2.04006737e-05, -1.74993475e-04,  3.16304686e-05,\n",
      "        3.36831436e-05, -4.48629180e-05, -1.75126661e-05,  1.85016797e-05,\n",
      "        9.92859568e-05,  7.54973589e-05, -1.91832587e-05,  3.07678238e-05,\n",
      "        6.09495291e-05, -4.48920655e-05,  2.94686670e-05, -1.60422642e-05,\n",
      "        3.69008267e-05,  8.68747957e-05,  1.73414119e-05,  7.32251356e-05,\n",
      "        5.19718751e-02, -9.77555523e-04, -5.12976013e-03, -3.48058604e-02,\n",
      "       -3.74591164e-02, -1.86359007e-02, -1.39334528e-02,  7.01056048e-03,\n",
      "       -4.74495348e-03,  2.12665051e-02,  5.32988692e-03, -1.46362884e-02,\n",
      "       -6.87176213e-02,  3.72824408e-02,  4.06284332e-02, -6.89326087e-03,\n",
      "       -1.46126151e-02, -1.89356785e-02, -2.21429355e-02, -2.78811380e-02,\n",
      "        3.01200915e-02, -3.58705297e-02, -2.12281495e-02, -1.35641196e-03,\n",
      "        3.72428671e-02,  2.36137304e-02,  2.24871188e-02, -1.70442415e-03,\n",
      "        2.17073690e-03,  1.61278471e-02,  1.59307215e-02,  1.09739695e-03,\n",
      "        5.53898513e-04, -2.81231329e-02,  1.81649104e-02, -1.05314879e-02,\n",
      "        1.13177318e-02, -1.62263326e-02,  6.36060387e-02, -4.72097890e-03,\n",
      "        2.94448137e-02,  2.65325010e-02,  2.71825530e-02, -5.45786228e-03,\n",
      "       -1.96501911e-02,  5.95372245e-02, -2.29339190e-02, -3.67234610e-02,\n",
      "       -2.47612000e-02,  1.01084597e-02, -6.99548936e-03, -4.80782837e-02,\n",
      "        1.88800246e-02,  1.80575363e-02,  1.40249515e-02,  7.01383548e-03,\n",
      "        1.48871187e-02,  3.62356193e-02,  2.45576631e-02,  3.84504274e-02,\n",
      "        7.15082884e-03, -6.04115650e-02, -1.12122716e-03,  8.21799785e-03,\n",
      "        5.06472923e-02, -2.51304489e-02,  1.68091226e-02,  7.69553124e-04,\n",
      "        1.15240561e-02,  9.15800221e-03, -3.05477008e-02, -2.83368919e-02,\n",
      "        1.41515732e-02, -2.85595143e-03, -5.33836037e-02, -4.54806164e-03,\n",
      "       -5.65010728e-03, -1.44436611e-02, -3.40959104e-03, -1.58164408e-02,\n",
      "        4.88646794e-03, -2.03405321e-02, -3.24237607e-02, -6.86852820e-03,\n",
      "       -1.30859772e-02,  2.79675890e-02, -1.69021841e-02,  2.99795419e-02,\n",
      "        2.93094222e-03,  2.88283490e-02,  1.87305193e-02,  1.41596925e-02,\n",
      "        5.63177187e-03, -3.40270847e-02,  4.93443571e-03, -2.98344567e-02,\n",
      "       -3.11261863e-02, -2.44414303e-02, -3.05766538e-02,  1.14115346e-02,\n",
      "       -8.32053460e-03,  1.60755543e-03, -1.51194800e-02,  2.76101548e-02,\n",
      "       -3.56378295e-02,  5.91178751e-03, -2.01598778e-02, -2.95932516e-02,\n",
      "       -2.13580262e-02, -1.04765799e-02, -5.23768812e-02, -1.52367577e-02,\n",
      "        1.26955621e-02, -5.35797141e-02, -1.48656210e-02, -2.21826155e-02,\n",
      "        3.05828303e-02, -1.81245394e-02, -2.89873760e-02, -5.23181930e-02,\n",
      "       -4.40113172e-02, -1.46656027e-02,  7.51942256e-03, -2.77674850e-02,\n",
      "       -2.62336954e-02,  4.48161960e-02,  1.54784461e-02,  5.69989011e-02,\n",
      "       -1.33240892e-05,  2.45812444e-05, -2.52174104e-05,  5.09980855e-05,\n",
      "        4.13092675e-05,  1.73929257e-05, -2.76049796e-05, -7.38344943e-06,\n",
      "       -8.63198511e-06,  2.80746572e-05, -1.01951136e-05,  4.86010176e-05,\n",
      "        1.71842257e-05,  7.83184078e-05,  9.81445191e-05,  3.65888554e-05,\n",
      "        2.23028619e-05, -1.57517788e-05, -2.35368188e-05,  9.39833117e-05,\n",
      "        4.12778318e-05,  3.98815791e-05, -4.56503840e-05, -7.63153548e-06,\n",
      "        1.30626198e-04,  5.02240837e-05, -1.23523041e-05,  1.72346481e-05,\n",
      "       -3.04077439e-05,  3.93318951e-05, -1.61827702e-05, -2.18205605e-06,\n",
      "       -2.31268241e-05,  4.30885302e-05, -2.83076588e-05,  4.32753441e-05,\n",
      "        2.72435173e-05, -2.76985702e-06, -7.39215102e-05,  8.22106085e-06,\n",
      "        6.71009693e-05, -1.27739622e-05, -1.76693029e-05, -2.48192955e-05,\n",
      "        6.53609168e-05, -2.24103205e-04,  4.44450052e-05, -4.62568496e-05,\n",
      "        2.53664912e-05, -1.45998274e-05, -2.07876583e-05, -1.78727860e-05,\n",
      "        3.17754075e-06, -1.34637030e-05, -6.66853157e-05, -2.03388554e-05,\n",
      "       -3.46230772e-05,  7.35715876e-05, -1.25698534e-06, -2.70172677e-05,\n",
      "        1.19711876e-05, -2.25898548e-05,  2.30348087e-05,  6.44659667e-05,\n",
      "       -7.75226181e-06, -7.32645785e-05,  9.74705381e-06, -2.45390147e-05,\n",
      "       -2.29714005e-05, -8.87212082e-08, -2.67352825e-05, -9.18369915e-06,\n",
      "        3.48221001e-05,  2.75413186e-06,  1.66174083e-04, -1.43057005e-05,\n",
      "       -2.06271834e-05,  4.28902968e-05, -2.02197498e-05,  9.84432336e-06,\n",
      "        1.36609797e-05,  7.56063218e-06,  8.42766167e-06, -2.24615269e-06,\n",
      "       -1.96003275e-05,  4.21007207e-05, -2.96046437e-06,  4.39834366e-05,\n",
      "       -1.90347400e-05,  3.67703651e-05,  1.12356320e-05, -8.71170778e-06,\n",
      "        1.21632229e-06, -1.22349913e-04, -7.57320595e-06, -1.56792375e-05,\n",
      "       -2.62611484e-05, -3.25544606e-05,  2.14836473e-06, -1.32125388e-05,\n",
      "       -3.07109804e-06,  3.13066485e-05, -5.64895490e-05, -4.78418588e-05,\n",
      "       -2.25113508e-05,  1.63899040e-06,  2.62372287e-05, -1.55088692e-05,\n",
      "       -2.77122108e-05, -2.60184752e-05, -1.55848073e-04,  4.33876303e-05,\n",
      "        3.14853969e-05, -4.09823406e-05, -3.51068156e-05,  3.06434122e-05,\n",
      "        7.21577599e-05,  6.49946378e-05,  9.81211542e-07,  2.86676077e-05,\n",
      "        5.12239749e-05, -6.37472476e-05,  3.82632061e-05, -9.06379682e-06,\n",
      "        2.72663819e-05,  5.87228787e-05,  2.85886217e-05,  6.38952333e-05],\n",
      "      dtype=float32)>, <tf.Tensor: shape=(128, 10000), dtype=float32, numpy=\n",
      "array([[ 4.2280904e-04, -8.0230710e-04,  1.6733982e-03, ...,\n",
      "        -1.6872553e-06, -1.6873827e-06, -1.6895767e-06],\n",
      "       [ 1.5577357e-03,  7.2301796e-04,  7.0396333e-04, ...,\n",
      "        -1.2319928e-06, -1.2338519e-06, -1.2337980e-06],\n",
      "       [-1.1078326e-03, -2.5076144e-03, -1.2171310e-03, ...,\n",
      "         3.0717829e-06,  3.0714232e-06,  3.0712877e-06],\n",
      "       ...,\n",
      "       [-8.3049358e-04, -2.5537596e-03, -2.4575368e-03, ...,\n",
      "         3.6425231e-06,  3.6445513e-06,  3.6407102e-06],\n",
      "       [ 4.9260911e-04,  9.1118307e-04,  3.5602754e-04, ...,\n",
      "        -8.3822238e-07, -8.3775097e-07, -8.3921589e-07],\n",
      "       [-1.1494472e-03, -1.4293704e-03, -2.2912929e-03, ...,\n",
      "         3.0443709e-06,  3.0457745e-06,  3.0408717e-06]], dtype=float32)>, <tf.Tensor: shape=(10000,), dtype=float32, numpy=\n",
      "array([-0.7979979 , -1.0313319 , -1.0313315 , ...,  0.00199967,\n",
      "        0.00200059,  0.00199987], dtype=float32)>]\n"
     ]
    }
   ],
   "source": [
    "print(grad_t_list)"
   ]
  },
  {
   "cell_type": "markdown",
   "metadata": {
    "button": false,
    "new_sheet": false,
    "run_control": {
     "read_only": false
    }
   },
   "source": [
    "Now, we have a list of tensors, t-list. We can use it to find clipped tensors. <b>clip_by_global_norm</b> clips values of multiple tensors by the ratio of the sum of their norms.\n",
    "\n",
    "<b>clip_by_global_norm</b> get <i>t-list</i> as input and returns 2 things:\n",
    "\n",
    "<ul>\n",
    "    <li>a list of clipped tensors, so called <i>list_clipped</i></li> \n",
    "    <li>the global norm (global_norm) of all tensors in t_list</li> \n",
    "</ul>\n"
   ]
  },
  {
   "cell_type": "code",
   "execution_count": 48,
   "metadata": {},
   "outputs": [
    {
     "data": {
      "text/plain": [
       "[<tensorflow.python.framework.indexed_slices.IndexedSlices at 0x7fe0129f8e50>,\n",
       " <tf.Tensor: shape=(200, 1024), dtype=float32, numpy=\n",
       " array([[ 6.3650771e-07, -2.1307089e-07, -4.3232021e-07, ...,\n",
       "          2.9184363e-07, -3.1616705e-07,  2.5504940e-07],\n",
       "        [ 1.6427144e-07,  1.3443885e-06, -3.0478412e-07, ...,\n",
       "         -1.8156102e-07, -1.5133233e-07,  9.1613586e-08],\n",
       "        [-6.0553145e-07,  2.0273838e-07, -3.6919815e-07, ...,\n",
       "         -2.7545088e-08,  2.7777702e-07, -1.4596712e-07],\n",
       "        ...,\n",
       "        [ 4.3072919e-07,  1.1211909e-07,  2.5613094e-06, ...,\n",
       "         -5.1766165e-09,  2.0943951e-07,  5.7104643e-08],\n",
       "        [-8.5627045e-07,  3.3870850e-07, -1.0944809e-06, ...,\n",
       "         -8.3926423e-08, -3.6090793e-08, -3.2159420e-07],\n",
       "        [-3.4373421e-08, -7.0370803e-09, -5.6367719e-07, ...,\n",
       "         -6.9787191e-08, -2.0278881e-07, -1.4457120e-07]], dtype=float32)>,\n",
       " <tf.Tensor: shape=(256, 1024), dtype=float32, numpy=\n",
       " array([[-1.56712304e-07, -2.33320563e-08,  1.35243567e-07, ...,\n",
       "          9.60227453e-09,  6.99817235e-08,  5.71757397e-08],\n",
       "        [-4.67592010e-09, -8.93240752e-08,  2.01198844e-07, ...,\n",
       "         -1.18819450e-07, -1.20935837e-07,  3.43901831e-08],\n",
       "        [-1.69421526e-08, -1.20166789e-07,  3.29329794e-07, ...,\n",
       "         -7.64886536e-08,  2.43144349e-08, -2.67664007e-08],\n",
       "        ...,\n",
       "        [-8.91617802e-09, -2.68689405e-07,  2.28143961e-07, ...,\n",
       "          2.78869749e-07,  4.13390211e-08, -2.45198464e-07],\n",
       "        [-7.20346520e-08,  1.45591681e-08,  6.50207994e-08, ...,\n",
       "          6.45126974e-08,  9.10009206e-08,  6.39399431e-08],\n",
       "        [ 5.76511958e-08,  7.46585513e-08,  1.06567605e-07, ...,\n",
       "         -3.03837275e-08, -1.41991521e-08, -8.06156208e-08]], dtype=float32)>,\n",
       " <tf.Tensor: shape=(1024,), dtype=float32, numpy=\n",
       " array([-1.2876511e-05,  3.0589044e-06, -1.7670383e-05, ...,\n",
       "         2.0729758e-06,  2.6261644e-06, -2.2276517e-05], dtype=float32)>,\n",
       " <tf.Tensor: shape=(256, 512), dtype=float32, numpy=\n",
       " array([[ 2.6662948e-07,  2.3547344e-08, -2.8585737e-07, ...,\n",
       "          1.6079218e-07, -8.4868134e-08,  6.4980082e-07],\n",
       "        [-3.3046706e-07,  1.3716001e-07,  1.7280607e-07, ...,\n",
       "         -2.2963142e-10, -3.1394944e-08,  1.2343256e-07],\n",
       "        [ 3.4466083e-08, -2.0003269e-07, -3.4553803e-08, ...,\n",
       "         -8.6858343e-08, -1.3981676e-08,  4.4966328e-07],\n",
       "        ...,\n",
       "        [ 1.1275890e-07,  1.0349327e-07,  3.1425767e-08, ...,\n",
       "          5.2479618e-07, -4.5744734e-08,  2.4551170e-07],\n",
       "        [ 1.6296008e-07,  9.9762872e-08,  1.6355891e-08, ...,\n",
       "          2.1643928e-08,  1.0769872e-07, -4.2159840e-08],\n",
       "        [ 1.0492975e-07, -3.8465359e-08,  4.9240995e-08, ...,\n",
       "         -5.1145975e-08,  2.6357435e-07, -4.4399633e-07]], dtype=float32)>,\n",
       " <tf.Tensor: shape=(128, 512), dtype=float32, numpy=\n",
       " array([[ 5.24907648e-07, -8.05407439e-08, -1.18987387e-07, ...,\n",
       "          2.56541000e-07, -1.70015326e-07,  9.87836586e-08],\n",
       "        [-9.60691224e-08,  1.23799680e-07, -4.68573056e-08, ...,\n",
       "         -1.97648546e-07,  1.58742949e-07,  1.96952726e-07],\n",
       "        [-4.88969150e-08,  1.45638154e-07, -1.11237615e-08, ...,\n",
       "          1.36447170e-07,  2.83874009e-08,  1.55109348e-07],\n",
       "        ...,\n",
       "        [ 9.16571423e-08,  1.70236177e-07,  5.20375139e-08, ...,\n",
       "          4.63266900e-07,  1.11624246e-07,  2.16652396e-07],\n",
       "        [ 4.97896231e-08,  9.58271613e-08, -1.13945937e-08, ...,\n",
       "          6.49987157e-08,  5.30117461e-08, -9.01418247e-08],\n",
       "        [ 2.81002627e-07,  6.47998561e-08, -2.71442424e-08, ...,\n",
       "          1.39937654e-07,  2.03921076e-08,  7.93480240e-07]], dtype=float32)>,\n",
       " <tf.Tensor: shape=(512,), dtype=float32, numpy=\n",
       " array([-1.49070765e-05,  2.42026526e-05, -2.42744154e-05,  3.82028666e-05,\n",
       "         2.26545162e-05,  1.70439016e-05, -2.63480106e-05, -5.30495072e-07,\n",
       "        -1.27673411e-05,  2.42074075e-05, -1.44145670e-05,  3.98771081e-05,\n",
       "         1.28646507e-05,  6.27372210e-05,  8.70006115e-05,  3.84490340e-05,\n",
       "         2.19976773e-05, -1.87909191e-05, -1.86011021e-05,  8.81786546e-05,\n",
       "         4.24575774e-05,  3.59039404e-05, -4.20865981e-05, -1.40985721e-05,\n",
       "         1.32821515e-04,  4.44556026e-05, -1.13719216e-05,  1.25207534e-05,\n",
       "        -2.63451693e-05,  3.74214796e-05, -1.26316691e-05, -9.73054648e-06,\n",
       "        -2.63682887e-05,  4.15976720e-05, -2.81179709e-05,  3.85427484e-05,\n",
       "         2.83504924e-05, -9.49009518e-07, -7.31763066e-05,  4.73659384e-06,\n",
       "         5.63654285e-05, -1.97210156e-05, -2.00111390e-06, -1.98232010e-05,\n",
       "         5.33948769e-05, -1.93432410e-04,  4.38636016e-05, -4.79598020e-05,\n",
       "         3.09927382e-05, -1.91463550e-06, -1.76100257e-05, -7.41161602e-06,\n",
       "         2.45851925e-06, -4.54947894e-06, -5.16276341e-05, -1.30181588e-05,\n",
       "        -2.58488799e-05,  6.59554498e-05, -5.65992696e-06, -1.51364111e-05,\n",
       "         1.62787583e-05, -2.60527850e-05,  1.86572342e-05,  5.71838464e-05,\n",
       "        -5.83372776e-06, -6.67514978e-05,  3.84899022e-06, -1.95344473e-05,\n",
       "        -2.27424371e-05, -1.19517699e-05, -1.95168668e-05, -1.56778260e-05,\n",
       "         2.78041443e-05, -4.24918471e-06,  1.50025822e-04, -7.95509277e-06,\n",
       "        -2.34535000e-05,  3.47449713e-05, -1.55040434e-05,  8.30991303e-06,\n",
       "         6.32442243e-06,  5.49492052e-06,  6.19410730e-06,  6.88159889e-06,\n",
       "        -1.66465215e-05,  2.59500412e-05,  4.20204969e-06,  3.62043065e-05,\n",
       "        -1.68689021e-05,  1.66114078e-05,  1.88636859e-05,  7.79433321e-07,\n",
       "        -9.49400328e-06, -1.11785906e-04, -3.65808410e-06, -1.26006962e-05,\n",
       "        -1.48319923e-05, -2.59712688e-05,  1.88528102e-05, -8.83339271e-06,\n",
       "        -7.23094581e-06,  2.09179416e-05, -5.83988003e-05, -4.33570931e-05,\n",
       "        -1.96661076e-05, -2.45489900e-07,  2.31217327e-05, -1.10055544e-05,\n",
       "        -2.34405488e-05, -2.56496660e-05, -1.33709822e-04,  3.88682965e-05,\n",
       "         3.03708584e-05, -3.97489930e-05, -2.68959593e-05,  3.27170928e-05,\n",
       "         6.82586178e-05,  5.97486287e-05,  7.81144627e-06,  7.49978881e-06,\n",
       "         4.66591009e-05, -6.06764224e-05,  3.27174967e-05, -1.51664653e-05,\n",
       "         1.70944804e-05,  5.40267320e-05,  1.85501831e-05,  5.26115109e-05,\n",
       "        -2.60711895e-05,  7.53719632e-06, -3.01834571e-05,  5.39587854e-05,\n",
       "         7.41919212e-05, -2.80809945e-06, -2.78663410e-05, -2.53955550e-05,\n",
       "        -8.38843334e-06,  5.48313910e-05, -2.04729877e-05,  6.25979301e-05,\n",
       "         5.53847640e-05,  8.56292318e-05,  1.42202887e-04,  5.86667156e-05,\n",
       "         2.19746707e-05, -4.08321175e-05, -2.29005527e-05,  9.49885216e-05,\n",
       "         3.83069564e-05,  4.79074479e-05, -2.68514123e-05, -7.60677767e-06,\n",
       "         1.74944085e-04,  6.57286291e-05, -3.08625531e-05,  2.04679327e-05,\n",
       "        -5.45864605e-05,  2.38534121e-05, -2.43156101e-05, -2.53878152e-05,\n",
       "        -3.01494474e-05,  7.06775027e-05, -1.13599599e-05,  2.97562092e-05,\n",
       "         1.07310480e-05,  2.22119979e-06, -7.78660979e-05, -7.89995511e-07,\n",
       "         7.89706974e-05, -2.13108942e-05, -8.56953193e-06, -2.81824123e-05,\n",
       "         8.95509438e-05, -3.15708894e-04,  8.23042210e-05, -5.63388603e-05,\n",
       "         1.39561726e-05, -4.60217270e-05, -7.47749436e-06, -1.02578906e-05,\n",
       "         2.25499571e-06, -1.36536028e-06, -6.87855209e-05,  1.43845637e-06,\n",
       "        -5.54101716e-05,  1.02536273e-04, -3.43814536e-05, -3.02520766e-05,\n",
       "        -8.08251662e-06, -3.03895795e-05,  2.24394244e-05,  3.88458429e-05,\n",
       "        -4.88707883e-07, -7.22619152e-05,  5.09681013e-05, -1.30651097e-05,\n",
       "        -2.97801962e-05,  2.21304344e-06, -4.91286228e-05, -2.60941924e-05,\n",
       "         5.11649705e-05,  1.17950804e-05,  2.36232794e-04, -6.93646416e-06,\n",
       "         2.79578398e-06,  7.35319118e-05, -4.09536278e-06,  1.24966409e-05,\n",
       "        -2.55476916e-05,  1.42329354e-05, -1.39200529e-05,  2.19631274e-05,\n",
       "        -2.73663318e-07,  1.82356307e-05,  2.22748149e-05,  4.64914701e-05,\n",
       "        -1.94909371e-05,  4.03473241e-05,  2.71715680e-06, -6.06445656e-06,\n",
       "        -7.26930466e-06, -1.28091444e-04, -2.67168125e-05, -4.51018859e-05,\n",
       "        -6.60624573e-05,  3.65951496e-06,  5.39492066e-06, -4.00073077e-07,\n",
       "         5.16154978e-06,  2.59993085e-05, -5.54552680e-05, -3.29376890e-05,\n",
       "        -2.33315513e-05,  4.84233169e-08,  4.25314029e-05, -1.79215440e-05,\n",
       "        -3.93327246e-05, -2.04006737e-05, -1.74993475e-04,  3.16304686e-05,\n",
       "         3.36831436e-05, -4.48629180e-05, -1.75126661e-05,  1.85016797e-05,\n",
       "         9.92859568e-05,  7.54973589e-05, -1.91832587e-05,  3.07678238e-05,\n",
       "         6.09495291e-05, -4.48920655e-05,  2.94686670e-05, -1.60422642e-05,\n",
       "         3.69008267e-05,  8.68747957e-05,  1.73414119e-05,  7.32251356e-05,\n",
       "         5.19718751e-02, -9.77555523e-04, -5.12976013e-03, -3.48058604e-02,\n",
       "        -3.74591164e-02, -1.86359007e-02, -1.39334528e-02,  7.01056048e-03,\n",
       "        -4.74495348e-03,  2.12665051e-02,  5.32988692e-03, -1.46362884e-02,\n",
       "        -6.87176213e-02,  3.72824408e-02,  4.06284332e-02, -6.89326087e-03,\n",
       "        -1.46126151e-02, -1.89356785e-02, -2.21429355e-02, -2.78811380e-02,\n",
       "         3.01200915e-02, -3.58705297e-02, -2.12281495e-02, -1.35641196e-03,\n",
       "         3.72428671e-02,  2.36137304e-02,  2.24871188e-02, -1.70442415e-03,\n",
       "         2.17073690e-03,  1.61278471e-02,  1.59307215e-02,  1.09739695e-03,\n",
       "         5.53898513e-04, -2.81231329e-02,  1.81649104e-02, -1.05314879e-02,\n",
       "         1.13177318e-02, -1.62263326e-02,  6.36060387e-02, -4.72097890e-03,\n",
       "         2.94448137e-02,  2.65325010e-02,  2.71825530e-02, -5.45786228e-03,\n",
       "        -1.96501911e-02,  5.95372245e-02, -2.29339190e-02, -3.67234610e-02,\n",
       "        -2.47612000e-02,  1.01084597e-02, -6.99548936e-03, -4.80782837e-02,\n",
       "         1.88800246e-02,  1.80575363e-02,  1.40249515e-02,  7.01383548e-03,\n",
       "         1.48871187e-02,  3.62356193e-02,  2.45576631e-02,  3.84504274e-02,\n",
       "         7.15082884e-03, -6.04115650e-02, -1.12122716e-03,  8.21799785e-03,\n",
       "         5.06472923e-02, -2.51304489e-02,  1.68091226e-02,  7.69553124e-04,\n",
       "         1.15240561e-02,  9.15800221e-03, -3.05477008e-02, -2.83368919e-02,\n",
       "         1.41515732e-02, -2.85595143e-03, -5.33836037e-02, -4.54806164e-03,\n",
       "        -5.65010728e-03, -1.44436611e-02, -3.40959104e-03, -1.58164408e-02,\n",
       "         4.88646794e-03, -2.03405321e-02, -3.24237607e-02, -6.86852820e-03,\n",
       "        -1.30859772e-02,  2.79675890e-02, -1.69021841e-02,  2.99795419e-02,\n",
       "         2.93094222e-03,  2.88283490e-02,  1.87305193e-02,  1.41596925e-02,\n",
       "         5.63177187e-03, -3.40270847e-02,  4.93443571e-03, -2.98344567e-02,\n",
       "        -3.11261863e-02, -2.44414303e-02, -3.05766538e-02,  1.14115346e-02,\n",
       "        -8.32053460e-03,  1.60755543e-03, -1.51194800e-02,  2.76101548e-02,\n",
       "        -3.56378295e-02,  5.91178751e-03, -2.01598778e-02, -2.95932516e-02,\n",
       "        -2.13580262e-02, -1.04765799e-02, -5.23768812e-02, -1.52367577e-02,\n",
       "         1.26955621e-02, -5.35797141e-02, -1.48656210e-02, -2.21826155e-02,\n",
       "         3.05828303e-02, -1.81245394e-02, -2.89873760e-02, -5.23181930e-02,\n",
       "        -4.40113172e-02, -1.46656027e-02,  7.51942256e-03, -2.77674850e-02,\n",
       "        -2.62336954e-02,  4.48161960e-02,  1.54784461e-02,  5.69989011e-02,\n",
       "        -1.33240892e-05,  2.45812444e-05, -2.52174104e-05,  5.09980855e-05,\n",
       "         4.13092675e-05,  1.73929257e-05, -2.76049796e-05, -7.38344943e-06,\n",
       "        -8.63198511e-06,  2.80746572e-05, -1.01951136e-05,  4.86010176e-05,\n",
       "         1.71842257e-05,  7.83184078e-05,  9.81445191e-05,  3.65888554e-05,\n",
       "         2.23028619e-05, -1.57517788e-05, -2.35368188e-05,  9.39833117e-05,\n",
       "         4.12778318e-05,  3.98815791e-05, -4.56503840e-05, -7.63153548e-06,\n",
       "         1.30626198e-04,  5.02240837e-05, -1.23523041e-05,  1.72346481e-05,\n",
       "        -3.04077439e-05,  3.93318951e-05, -1.61827702e-05, -2.18205605e-06,\n",
       "        -2.31268241e-05,  4.30885302e-05, -2.83076588e-05,  4.32753441e-05,\n",
       "         2.72435173e-05, -2.76985702e-06, -7.39215102e-05,  8.22106085e-06,\n",
       "         6.71009693e-05, -1.27739622e-05, -1.76693029e-05, -2.48192955e-05,\n",
       "         6.53609168e-05, -2.24103205e-04,  4.44450052e-05, -4.62568496e-05,\n",
       "         2.53664912e-05, -1.45998274e-05, -2.07876583e-05, -1.78727860e-05,\n",
       "         3.17754075e-06, -1.34637030e-05, -6.66853157e-05, -2.03388554e-05,\n",
       "        -3.46230772e-05,  7.35715876e-05, -1.25698534e-06, -2.70172677e-05,\n",
       "         1.19711876e-05, -2.25898548e-05,  2.30348087e-05,  6.44659667e-05,\n",
       "        -7.75226181e-06, -7.32645785e-05,  9.74705381e-06, -2.45390147e-05,\n",
       "        -2.29714005e-05, -8.87212082e-08, -2.67352825e-05, -9.18369915e-06,\n",
       "         3.48221001e-05,  2.75413186e-06,  1.66174083e-04, -1.43057005e-05,\n",
       "        -2.06271834e-05,  4.28902968e-05, -2.02197498e-05,  9.84432336e-06,\n",
       "         1.36609797e-05,  7.56063218e-06,  8.42766167e-06, -2.24615269e-06,\n",
       "        -1.96003275e-05,  4.21007207e-05, -2.96046437e-06,  4.39834366e-05,\n",
       "        -1.90347400e-05,  3.67703651e-05,  1.12356320e-05, -8.71170778e-06,\n",
       "         1.21632229e-06, -1.22349913e-04, -7.57320595e-06, -1.56792375e-05,\n",
       "        -2.62611484e-05, -3.25544606e-05,  2.14836473e-06, -1.32125388e-05,\n",
       "        -3.07109804e-06,  3.13066485e-05, -5.64895490e-05, -4.78418588e-05,\n",
       "        -2.25113508e-05,  1.63899040e-06,  2.62372287e-05, -1.55088692e-05,\n",
       "        -2.77122108e-05, -2.60184752e-05, -1.55848073e-04,  4.33876303e-05,\n",
       "         3.14853969e-05, -4.09823406e-05, -3.51068156e-05,  3.06434122e-05,\n",
       "         7.21577599e-05,  6.49946378e-05,  9.81211542e-07,  2.86676077e-05,\n",
       "         5.12239749e-05, -6.37472476e-05,  3.82632061e-05, -9.06379682e-06,\n",
       "         2.72663819e-05,  5.87228787e-05,  2.85886217e-05,  6.38952333e-05],\n",
       "       dtype=float32)>,\n",
       " <tf.Tensor: shape=(128, 10000), dtype=float32, numpy=\n",
       " array([[ 4.2280904e-04, -8.0230710e-04,  1.6733982e-03, ...,\n",
       "         -1.6872553e-06, -1.6873827e-06, -1.6895767e-06],\n",
       "        [ 1.5577357e-03,  7.2301796e-04,  7.0396333e-04, ...,\n",
       "         -1.2319928e-06, -1.2338519e-06, -1.2337980e-06],\n",
       "        [-1.1078326e-03, -2.5076144e-03, -1.2171310e-03, ...,\n",
       "          3.0717829e-06,  3.0714232e-06,  3.0712877e-06],\n",
       "        ...,\n",
       "        [-8.3049358e-04, -2.5537596e-03, -2.4575368e-03, ...,\n",
       "          3.6425231e-06,  3.6445513e-06,  3.6407102e-06],\n",
       "        [ 4.9260911e-04,  9.1118307e-04,  3.5602754e-04, ...,\n",
       "         -8.3822238e-07, -8.3775097e-07, -8.3921589e-07],\n",
       "        [-1.1494472e-03, -1.4293704e-03, -2.2912929e-03, ...,\n",
       "          3.0443709e-06,  3.0457745e-06,  3.0408717e-06]], dtype=float32)>,\n",
       " <tf.Tensor: shape=(10000,), dtype=float32, numpy=\n",
       " array([-0.7979979 , -1.0313319 , -1.0313315 , ...,  0.00199967,\n",
       "         0.00200059,  0.00199987], dtype=float32)>]"
      ]
     },
     "execution_count": 48,
     "metadata": {},
     "output_type": "execute_result"
    }
   ],
   "source": [
    "# Define the gradient clipping threshold\n",
    "grads, _ = tf.clip_by_global_norm(grad_t_list, max_grad_norm)\n",
    "grads"
   ]
  },
  {
   "cell_type": "markdown",
   "metadata": {},
   "source": [
    "<h4> 4.Apply the optimizer to the variables/gradients tuple. </h4>\n"
   ]
  },
  {
   "cell_type": "code",
   "execution_count": 49,
   "metadata": {},
   "outputs": [],
   "source": [
    "# Create the training TensorFlow Operation through our optimizer\n",
    "train_op = optimizer.apply_gradients(zip(grads, tvars))"
   ]
  },
  {
   "cell_type": "markdown",
   "metadata": {},
   "source": [
    "<a id=\"lstm\"></a>\n",
    "\n",
    "<h2>LSTM</h2>\n"
   ]
  },
  {
   "cell_type": "markdown",
   "metadata": {
    "button": false,
    "new_sheet": false,
    "run_control": {
     "read_only": false
    }
   },
   "source": [
    "We learned how the model is build step by step. Now, let's create a Class that represents our model. This class needs a few things:\n",
    "\n",
    "<ul>\n",
    "    <li>We have to create the model in accordance with our defined hyperparameters</li>\n",
    "    <li>We have to create the LSTM cell structure and connect them with our RNN structure</li>\n",
    "    <li>We have to create the word embeddings and point them to the input data</li>\n",
    "    <li>We have to create the input structure for our RNN</li>\n",
    "    <li>We need to create a logistic structure to return the probability of our words</li>\n",
    "    <li>We need to create the loss and cost functions for our optimizer to work, and then create the optimizer</li>\n",
    "    <li>And finally, we need to create a training operation that can be run to actually train our model</li>\n",
    "</ul>\n"
   ]
  },
  {
   "cell_type": "code",
   "execution_count": 50,
   "metadata": {
    "button": false,
    "new_sheet": false,
    "run_control": {
     "read_only": false
    },
    "tags": []
   },
   "outputs": [],
   "source": [
    "class PTBModel(object):\n",
    "\n",
    "\n",
    "    def __init__(self):\n",
    "        ######################################\n",
    "        # Setting parameters for ease of use #\n",
    "        ######################################\n",
    "        self.batch_size = batch_size\n",
    "        self.num_steps = num_steps\n",
    "        self.hidden_size_l1 = hidden_size_l1\n",
    "        self.hidden_size_l2 = hidden_size_l2\n",
    "        self.vocab_size = vocab_size\n",
    "        self.embeding_vector_size = embeding_vector_size\n",
    "        # Create a variable for the learning rate\n",
    "        self._lr = 1.0\n",
    "        \n",
    "        ###############################################################################\n",
    "        # Initializing the model using keras Sequential API  #\n",
    "        ###############################################################################\n",
    "        \n",
    "        self._model = tf.keras.models.Sequential()\n",
    "        \n",
    "        ####################################################################\n",
    "        # Creating the word embeddings layer and adding it to the sequence #\n",
    "        ####################################################################\n",
    "        with tf.device(\"/cpu:0\"):\n",
    "            # Create the embeddings for our input data. Size is hidden size.\n",
    "            self._embedding_layer = tf.keras.layers.Embedding(self.vocab_size, self.embeding_vector_size,batch_input_shape=(self.batch_size, self.num_steps),trainable=True,name=\"embedding_vocab\")  #[10000x200]\n",
    "            self._model.add(self._embedding_layer)\n",
    "            \n",
    "\n",
    "        ##########################################################################\n",
    "        # Creating the LSTM cell structure and connect it with the RNN structure #\n",
    "        ##########################################################################\n",
    "        # Create the LSTM Cells. \n",
    "        # This creates only the structure for the LSTM and has to be associated with a RNN unit still.\n",
    "        # The argument  of LSTMCell is size of hidden layer, that is, the number of hidden units of the LSTM (inside A). \n",
    "        # LSTM cell processes one word at a time and computes probabilities of the possible continuations of the sentence.\n",
    "        lstm_cell_l1 = tf.keras.layers.LSTMCell(hidden_size_l1)\n",
    "        lstm_cell_l2 = tf.keras.layers.LSTMCell(hidden_size_l2)\n",
    "        \n",
    "\n",
    "        \n",
    "        # By taking in the LSTM cells as parameters, the StackedRNNCells function junctions the LSTM units to the RNN units.\n",
    "        # RNN cell composed sequentially of stacked simple cells.\n",
    "        stacked_lstm = tf.keras.layers.StackedRNNCells([lstm_cell_l1, lstm_cell_l2])\n",
    "\n",
    "\n",
    "        \n",
    "\n",
    "        ############################################\n",
    "        # Creating the input structure for our RNN #\n",
    "        ############################################\n",
    "        # Input structure is 20x[30x200]\n",
    "        # Considering each word is represended by a 200 dimentional vector, and we have 30 batchs, we create 30 word-vectors of size [30xx2000]\n",
    "        # The input structure is fed from the embeddings, which are filled in by the input data\n",
    "        # Feeding a batch of b sentences to a RNN:\n",
    "        # In step 1,  first word of each of the b sentences (in a batch) is input in parallel.  \n",
    "        # In step 2,  second word of each of the b sentences is input in parallel. \n",
    "        # The parallelism is only for efficiency.  \n",
    "        # Each sentence in a batch is handled in parallel, but the network sees one word of a sentence at a time and does the computations accordingly. \n",
    "        # All the computations involving the words of all sentences in a batch at a given time step are done in parallel. \n",
    "\n",
    "        ########################################################################################################\n",
    "        # Instantiating our RNN model and setting stateful to True to feed forward the state to the next layer #\n",
    "        ########################################################################################################\n",
    "        \n",
    "        self._RNNlayer  =  tf.keras.layers.RNN(stacked_lstm,[batch_size, num_steps],return_state=False,stateful=True,trainable=True)\n",
    "        \n",
    "        # Define the initial state, i.e., the model state for the very first data point\n",
    "        # It initialize the state of the LSTM memory. The memory state of the network is initialized with a vector of zeros and gets updated after reading each word.\n",
    "        self._initial_state = tf.Variable(tf.zeros([batch_size,embeding_vector_size]),trainable=False)\n",
    "        self._RNNlayer.inital_state = self._initial_state\n",
    "    \n",
    "        ############################################\n",
    "        # Adding RNN layer to keras sequential API #\n",
    "        ############################################        \n",
    "        self._model.add(self._RNNlayer)\n",
    "        \n",
    "        #self._model.add(tf.keras.layers.LSTM(hidden_size_l1,return_sequences=True,stateful=True))\n",
    "        #self._model.add(tf.keras.layers.LSTM(hidden_size_l2,return_sequences=True))\n",
    "        \n",
    "        \n",
    "        ####################################################################################################\n",
    "        # Instantiating a Dense layer that connects the output to the vocab_size  and adding layer to model#\n",
    "        ####################################################################################################\n",
    "        self._dense = tf.keras.layers.Dense(self.vocab_size)\n",
    "        self._model.add(self._dense)\n",
    " \n",
    "        \n",
    "        ####################################################################################################\n",
    "        # Adding softmax activation layer and deriving probability to each class and adding layer to model #\n",
    "        ####################################################################################################\n",
    "        self._activation = tf.keras.layers.Activation('softmax')\n",
    "        self._model.add(self._activation)\n",
    "\n",
    "        ##########################################################\n",
    "        # Instantiating the stochastic gradient decent optimizer #\n",
    "        ########################################################## \n",
    "        self._optimizer = tf.keras.optimizers.SGD(lr=self._lr, clipnorm=max_grad_norm)\n",
    "        \n",
    "        \n",
    "        ##############################################################################\n",
    "        # Compiling and summarizing the model stacked using the keras sequential API #\n",
    "        ##############################################################################\n",
    "        self._model.compile(loss=self.crossentropy, optimizer=self._optimizer)\n",
    "        self._model.summary()\n",
    "\n",
    "\n",
    "    def crossentropy(self,y_true, y_pred):\n",
    "        return tf.keras.losses.sparse_categorical_crossentropy(y_true, y_pred)\n",
    "\n",
    "    def train_batch(self,_input_data,_targets):\n",
    "        #################################################\n",
    "        # Creating the Training Operation for our Model #\n",
    "        #################################################\n",
    "        # Create a variable for the learning rate\n",
    "        self._lr = tf.Variable(0.0, trainable=False)\n",
    "        # Get all TensorFlow variables marked as \"trainable\" (i.e. all of them except _lr, which we just created)\n",
    "        tvars = self._model.trainable_variables\n",
    "        # Define the gradient clipping threshold\n",
    "        with tf.GradientTape() as tape:\n",
    "            # Forward pass.\n",
    "            output_words_prob = self._model(_input_data)\n",
    "            # Loss value for this batch.\n",
    "            loss  = self.crossentropy(_targets, output_words_prob)\n",
    "            # average across batch and reduce sum\n",
    "            cost = tf.reduce_sum(loss/ self.batch_size)\n",
    "        # Get gradients of loss wrt the trainable variables.\n",
    "        grad_t_list = tape.gradient(cost, tvars)\n",
    "        # Define the gradient clipping threshold\n",
    "        grads, _ = tf.clip_by_global_norm(grad_t_list, max_grad_norm)\n",
    "        # Create the training TensorFlow Operation through our optimizer\n",
    "        train_op = self._optimizer.apply_gradients(zip(grads, tvars))\n",
    "        return cost\n",
    "        \n",
    "    def test_batch(self,_input_data,_targets):\n",
    "        #################################################\n",
    "        # Creating the Testing Operation for our Model #\n",
    "        #################################################\n",
    "        output_words_prob = self._model(_input_data)\n",
    "        loss  = self.crossentropy(_targets, output_words_prob)\n",
    "        # average across batch and reduce sum\n",
    "        cost = tf.reduce_sum(loss/ self.batch_size)\n",
    "\n",
    "        return cost\n",
    "    @classmethod\n",
    "    def instance(cls) : \n",
    "        return PTBModel()"
   ]
  },
  {
   "cell_type": "markdown",
   "metadata": {
    "button": false,
    "new_sheet": false,
    "run_control": {
     "read_only": false
    }
   },
   "source": [
    "With that, the actual structure of our Recurrent Neural Network with Long Short-Term Memory is finished. What remains for us to do is to actually create the methods to run through time -- that is, the <code>run_epoch</code> method to be run at each epoch and a <code>main</code> script which ties all of this together.\n",
    "\n",
    "What our <code>run_epoch</code> method should do is take our input data and feed it to the relevant operations. This will return at the very least the current result for the cost function.\n"
   ]
  },
  {
   "cell_type": "code",
   "execution_count": 51,
   "metadata": {
    "button": false,
    "new_sheet": false,
    "run_control": {
     "read_only": false
    }
   },
   "outputs": [],
   "source": [
    "\n",
    "########################################################################################################################\n",
    "# run_one_epoch takes as parameters  the model instance, the data to be fed, training or testing mode and verbose info #\n",
    "########################################################################################################################\n",
    "def run_one_epoch(m, data,is_training=True,verbose=False):\n",
    "\n",
    "    #Define the epoch size based on the length of the data, batch size and the number of steps\n",
    "    epoch_size = ((len(data) // m.batch_size) - 1) // m.num_steps\n",
    "    start_time = time.time()\n",
    "    costs = 0.\n",
    "    iters = 0\n",
    "    \n",
    "    m._model.reset_states()\n",
    "    \n",
    "    #For each step and data point\n",
    "    for step, (x, y) in enumerate(reader.ptb_iterator(data, m.batch_size, m.num_steps)):\n",
    "        \n",
    "        #Evaluate and return cost, state by running cost, final_state and the function passed as parameter\n",
    "        #y = tf.keras.utils.to_categorical(y, num_classes=vocab_size)\n",
    "        if is_training : \n",
    "            loss=  m.train_batch(x, y)\n",
    "        else :\n",
    "            loss = m.test_batch(x, y)\n",
    "                                   \n",
    "\n",
    "        #Add returned cost to costs (which keeps track of the total costs for this epoch)\n",
    "        costs += loss\n",
    "        \n",
    "        #Add number of steps to iteration counter\n",
    "        iters += m.num_steps\n",
    "\n",
    "        if verbose and step % (epoch_size // 10) == 10:\n",
    "            print(\"Itr %d of %d, perplexity: %.3f speed: %.0f wps\" % (step , epoch_size, np.exp(costs / iters), iters * m.batch_size / (time.time() - start_time)))\n",
    "        \n",
    "\n",
    "\n",
    "    # Returns the Perplexity rating for us to keep track of how the model is evolving\n",
    "    return np.exp(costs / iters)\n"
   ]
  },
  {
   "cell_type": "markdown",
   "metadata": {
    "button": false,
    "new_sheet": false,
    "run_control": {
     "read_only": false
    }
   },
   "source": [
    "Now, we create the <code>main</code> method to tie everything together. The code here reads the data from the directory, using the <code>reader</code> helper module, and then trains and evaluates the model on both a testing and a validating subset of data.\n"
   ]
  },
  {
   "cell_type": "code",
   "execution_count": 52,
   "metadata": {
    "button": false,
    "new_sheet": false,
    "run_control": {
     "read_only": false
    },
    "tags": []
   },
   "outputs": [],
   "source": [
    "# Reads the data and separates it into training data, validation data and testing data\n",
    "raw_data = reader.ptb_raw_data(data_dir)\n",
    "train_data, valid_data, test_data, _, _ = raw_data"
   ]
  },
  {
   "cell_type": "code",
   "execution_count": 53,
   "metadata": {
    "tags": []
   },
   "outputs": [
    {
     "name": "stdout",
     "output_type": "stream",
     "text": [
      "Model: \"sequential_1\"\n",
      "_________________________________________________________________\n",
      "Layer (type)                 Output Shape              Param #   \n",
      "=================================================================\n",
      "embedding_vocab (Embedding)  (30, 20, 200)             2000000   \n",
      "_________________________________________________________________\n",
      "rnn_1 (RNN)                  (30, 20, 128)             671088    \n",
      "_________________________________________________________________\n",
      "dense_1 (Dense)              (30, 20, 10000)           1290000   \n",
      "_________________________________________________________________\n",
      "activation_1 (Activation)    (30, 20, 10000)           0         \n",
      "=================================================================\n",
      "Total params: 3,961,088\n",
      "Trainable params: 3,955,088\n",
      "Non-trainable params: 6,000\n",
      "_________________________________________________________________\n",
      "Epoch 1 : Learning rate: 1.000\n",
      "Itr 10 of 1549, perplexity: 5155.322 speed: 1097 wps\n",
      "Itr 164 of 1549, perplexity: 1102.203 speed: 1106 wps\n",
      "Itr 318 of 1549, perplexity: 843.113 speed: 1095 wps\n",
      "Itr 472 of 1549, perplexity: 701.421 speed: 1089 wps\n",
      "Itr 626 of 1549, perplexity: 603.230 speed: 1092 wps\n",
      "Itr 780 of 1549, perplexity: 538.383 speed: 1090 wps\n",
      "Itr 934 of 1549, perplexity: 486.064 speed: 1091 wps\n",
      "Itr 1088 of 1549, perplexity: 446.525 speed: 1104 wps\n",
      "Itr 1242 of 1549, perplexity: 416.245 speed: 1122 wps\n",
      "Itr 1396 of 1549, perplexity: 387.701 speed: 1133 wps\n",
      "Epoch 1 : Train Perplexity: 365.261\n",
      "Epoch 1 : Valid Perplexity: 219.215\n",
      "Epoch 2 : Learning rate: 1.000\n",
      "Itr 10 of 1549, perplexity: 245.573 speed: 1051 wps\n",
      "Itr 164 of 1549, perplexity: 214.912 speed: 1103 wps\n",
      "Itr 318 of 1549, perplexity: 206.048 speed: 1100 wps\n",
      "Itr 472 of 1549, perplexity: 197.840 speed: 1103 wps\n",
      "Itr 626 of 1549, perplexity: 188.773 speed: 1104 wps\n",
      "Itr 780 of 1549, perplexity: 184.963 speed: 1100 wps\n",
      "Itr 934 of 1549, perplexity: 180.892 speed: 1098 wps\n",
      "Itr 1088 of 1549, perplexity: 177.386 speed: 1098 wps\n",
      "Itr 1242 of 1549, perplexity: 174.921 speed: 1099 wps\n",
      "Itr 1396 of 1549, perplexity: 170.705 speed: 1100 wps\n",
      "Epoch 2 : Train Perplexity: 167.777\n",
      "Epoch 2 : Valid Perplexity: 165.395\n",
      "Epoch 3 : Learning rate: 1.000\n",
      "Itr 10 of 1549, perplexity: 166.448 speed: 1074 wps\n",
      "Itr 164 of 1549, perplexity: 149.972 speed: 1095 wps\n",
      "Itr 318 of 1549, perplexity: 146.176 speed: 1103 wps\n",
      "Itr 472 of 1549, perplexity: 141.593 speed: 1096 wps\n",
      "Itr 626 of 1549, perplexity: 136.380 speed: 1097 wps\n",
      "Itr 780 of 1549, perplexity: 135.252 speed: 1100 wps\n",
      "Itr 934 of 1549, perplexity: 133.549 speed: 1100 wps\n",
      "Itr 1088 of 1549, perplexity: 132.103 speed: 1110 wps\n",
      "Itr 1242 of 1549, perplexity: 131.324 speed: 1134 wps\n",
      "Itr 1396 of 1549, perplexity: 128.984 speed: 1149 wps\n",
      "Epoch 3 : Train Perplexity: 127.641\n",
      "Epoch 3 : Valid Perplexity: 148.646\n",
      "Epoch 4 : Learning rate: 1.000\n",
      "Itr 10 of 1549, perplexity: 132.854 speed: 1031 wps\n",
      "Itr 164 of 1549, perplexity: 122.365 speed: 1100 wps\n",
      "Itr 318 of 1549, perplexity: 120.483 speed: 1093 wps\n",
      "Itr 472 of 1549, perplexity: 116.978 speed: 1089 wps\n",
      "Itr 626 of 1549, perplexity: 113.057 speed: 1091 wps\n",
      "Itr 780 of 1549, perplexity: 112.619 speed: 1091 wps\n",
      "Itr 934 of 1549, perplexity: 111.498 speed: 1087 wps\n",
      "Itr 1088 of 1549, perplexity: 110.615 speed: 1088 wps\n",
      "Itr 1242 of 1549, perplexity: 110.264 speed: 1090 wps\n",
      "Itr 1396 of 1549, perplexity: 108.571 speed: 1091 wps\n",
      "Epoch 4 : Train Perplexity: 107.760\n",
      "Epoch 4 : Valid Perplexity: 138.632\n",
      "Epoch 5 : Learning rate: 1.000\n",
      "Itr 10 of 1549, perplexity: 114.148 speed: 1048 wps\n",
      "Itr 164 of 1549, perplexity: 106.829 speed: 1085 wps\n",
      "Itr 318 of 1549, perplexity: 105.127 speed: 1092 wps\n",
      "Itr 472 of 1549, perplexity: 102.317 speed: 1093 wps\n",
      "Itr 626 of 1549, perplexity: 99.145 speed: 1087 wps\n",
      "Itr 780 of 1549, perplexity: 99.001 speed: 1083 wps\n",
      "Itr 934 of 1549, perplexity: 98.191 speed: 1083 wps\n",
      "Itr 1088 of 1549, perplexity: 97.535 speed: 1085 wps\n",
      "Itr 1242 of 1549, perplexity: 97.382 speed: 1086 wps\n",
      "Itr 1396 of 1549, perplexity: 96.022 speed: 1100 wps\n",
      "Epoch 5 : Train Perplexity: 95.467\n",
      "Epoch 5 : Valid Perplexity: 134.620\n",
      "Epoch 6 : Learning rate: 0.500\n",
      "Itr 10 of 1549, perplexity: 101.405 speed: 1277 wps\n",
      "Itr 164 of 1549, perplexity: 92.772 speed: 1300 wps\n",
      "Itr 318 of 1549, perplexity: 90.111 speed: 1260 wps\n",
      "Itr 472 of 1549, perplexity: 86.756 speed: 1197 wps\n",
      "Itr 626 of 1549, perplexity: 83.180 speed: 1165 wps\n",
      "Itr 780 of 1549, perplexity: 82.450 speed: 1157 wps\n",
      "Itr 934 of 1549, perplexity: 81.202 speed: 1146 wps\n",
      "Itr 1088 of 1549, perplexity: 80.076 speed: 1133 wps\n",
      "Itr 1242 of 1549, perplexity: 79.328 speed: 1128 wps\n",
      "Itr 1396 of 1549, perplexity: 77.658 speed: 1138 wps\n",
      "Epoch 6 : Train Perplexity: 76.639\n",
      "Epoch 6 : Valid Perplexity: 123.427\n",
      "Epoch 7 : Learning rate: 0.250\n",
      "Itr 10 of 1549, perplexity: 85.049 speed: 1319 wps\n",
      "Itr 164 of 1549, perplexity: 79.689 speed: 1330 wps\n",
      "Itr 318 of 1549, perplexity: 77.638 speed: 1238 wps\n",
      "Itr 472 of 1549, perplexity: 74.780 speed: 1192 wps\n",
      "Itr 626 of 1549, perplexity: 71.580 speed: 1170 wps\n",
      "Itr 780 of 1549, perplexity: 70.892 speed: 1154 wps\n",
      "Itr 934 of 1549, perplexity: 69.748 speed: 1139 wps\n",
      "Itr 1088 of 1549, perplexity: 68.649 speed: 1135 wps\n",
      "Itr 1242 of 1549, perplexity: 67.826 speed: 1128 wps\n",
      "Itr 1396 of 1549, perplexity: 66.233 speed: 1124 wps\n",
      "Epoch 7 : Train Perplexity: 65.192\n",
      "Epoch 7 : Valid Perplexity: 121.494\n",
      "Epoch 8 : Learning rate: 0.125\n",
      "Itr 10 of 1549, perplexity: 76.932 speed: 1077 wps\n",
      "Itr 164 of 1549, perplexity: 72.390 speed: 1083 wps\n",
      "Itr 318 of 1549, perplexity: 70.636 speed: 1082 wps\n",
      "Itr 472 of 1549, perplexity: 68.048 speed: 1094 wps\n",
      "Itr 626 of 1549, perplexity: 65.068 speed: 1091 wps\n",
      "Itr 780 of 1549, perplexity: 64.425 speed: 1093 wps\n",
      "Itr 934 of 1549, perplexity: 63.367 speed: 1093 wps\n",
      "Itr 1088 of 1549, perplexity: 62.331 speed: 1094 wps\n",
      "Itr 1242 of 1549, perplexity: 61.529 speed: 1094 wps\n",
      "Itr 1396 of 1549, perplexity: 60.028 speed: 1096 wps\n",
      "Epoch 8 : Train Perplexity: 59.031\n",
      "Epoch 8 : Valid Perplexity: 121.411\n",
      "Epoch 9 : Learning rate: 0.062\n",
      "Itr 10 of 1549, perplexity: 72.755 speed: 1082 wps\n",
      "Itr 164 of 1549, perplexity: 68.508 speed: 1095 wps\n",
      "Itr 318 of 1549, perplexity: 66.961 speed: 1092 wps\n",
      "Itr 472 of 1549, perplexity: 64.531 speed: 1094 wps\n",
      "Itr 626 of 1549, perplexity: 61.668 speed: 1092 wps\n",
      "Itr 780 of 1549, perplexity: 61.052 speed: 1090 wps\n",
      "Itr 934 of 1549, perplexity: 60.052 speed: 1094 wps\n",
      "Itr 1088 of 1549, perplexity: 59.056 speed: 1094 wps\n",
      "Itr 1242 of 1549, perplexity: 58.268 speed: 1097 wps\n",
      "Itr 1396 of 1549, perplexity: 56.814 speed: 1097 wps\n",
      "Epoch 9 : Train Perplexity: 55.839\n",
      "Epoch 9 : Valid Perplexity: 121.273\n",
      "Epoch 10 : Learning rate: 0.031\n",
      "Itr 10 of 1549, perplexity: 70.567 speed: 1066 wps\n",
      "Itr 164 of 1549, perplexity: 66.403 speed: 1079 wps\n",
      "Itr 318 of 1549, perplexity: 64.964 speed: 1090 wps\n",
      "Itr 472 of 1549, perplexity: 62.629 speed: 1092 wps\n",
      "Itr 626 of 1549, perplexity: 59.850 speed: 1095 wps\n",
      "Itr 780 of 1549, perplexity: 59.261 speed: 1090 wps\n",
      "Itr 934 of 1549, perplexity: 58.298 speed: 1088 wps\n",
      "Itr 1088 of 1549, perplexity: 57.320 speed: 1089 wps\n",
      "Itr 1242 of 1549, perplexity: 56.537 speed: 1089 wps\n",
      "Itr 1396 of 1549, perplexity: 55.109 speed: 1091 wps\n",
      "Epoch 10 : Train Perplexity: 54.148\n",
      "Epoch 10 : Valid Perplexity: 121.072\n",
      "Epoch 11 : Learning rate: 0.016\n",
      "Itr 10 of 1549, perplexity: 69.366 speed: 1064 wps\n",
      "Itr 164 of 1549, perplexity: 65.242 speed: 1079 wps\n",
      "Itr 318 of 1549, perplexity: 63.841 speed: 1082 wps\n",
      "Itr 472 of 1549, perplexity: 61.566 speed: 1079 wps\n",
      "Itr 626 of 1549, perplexity: 58.845 speed: 1075 wps\n",
      "Itr 780 of 1549, perplexity: 58.277 speed: 1079 wps\n",
      "Itr 934 of 1549, perplexity: 57.334 speed: 1080 wps\n",
      "Itr 1088 of 1549, perplexity: 56.369 speed: 1084 wps\n",
      "Itr 1242 of 1549, perplexity: 55.593 speed: 1085 wps\n",
      "Itr 1396 of 1549, perplexity: 54.179 speed: 1085 wps\n",
      "Epoch 11 : Train Perplexity: 53.225\n",
      "Epoch 11 : Valid Perplexity: 120.931\n",
      "Epoch 12 : Learning rate: 0.008\n",
      "Itr 10 of 1549, perplexity: 68.696 speed: 1116 wps\n",
      "Itr 164 of 1549, perplexity: 64.622 speed: 1090 wps\n",
      "Itr 318 of 1549, perplexity: 63.232 speed: 1103 wps\n",
      "Itr 472 of 1549, perplexity: 60.984 speed: 1097 wps\n",
      "Itr 626 of 1549, perplexity: 58.297 speed: 1095 wps\n",
      "Itr 780 of 1549, perplexity: 57.743 speed: 1094 wps\n",
      "Itr 934 of 1549, perplexity: 56.809 speed: 1088 wps\n",
      "Itr 1088 of 1549, perplexity: 55.850 speed: 1089 wps\n",
      "Itr 1242 of 1549, perplexity: 55.078 speed: 1087 wps\n",
      "Itr 1396 of 1549, perplexity: 53.673 speed: 1086 wps\n",
      "Epoch 12 : Train Perplexity: 52.722\n",
      "Epoch 12 : Valid Perplexity: 120.798\n",
      "Epoch 13 : Learning rate: 0.004\n",
      "Itr 10 of 1549, perplexity: 68.346 speed: 1038 wps\n",
      "Itr 164 of 1549, perplexity: 64.313 speed: 1082 wps\n",
      "Itr 318 of 1549, perplexity: 62.928 speed: 1082 wps\n",
      "Itr 472 of 1549, perplexity: 60.689 speed: 1081 wps\n",
      "Itr 626 of 1549, perplexity: 58.011 speed: 1081 wps\n",
      "Itr 780 of 1549, perplexity: 57.462 speed: 1081 wps\n",
      "Itr 934 of 1549, perplexity: 56.531 speed: 1081 wps\n",
      "Itr 1088 of 1549, perplexity: 55.575 speed: 1083 wps\n",
      "Itr 1242 of 1549, perplexity: 54.806 speed: 1085 wps\n",
      "Itr 1396 of 1549, perplexity: 53.405 speed: 1086 wps\n",
      "Epoch 13 : Train Perplexity: 52.455\n",
      "Epoch 13 : Valid Perplexity: 120.638\n",
      "Epoch 14 : Learning rate: 0.002\n",
      "Itr 10 of 1549, perplexity: 68.145 speed: 1038 wps\n",
      "Itr 164 of 1549, perplexity: 64.140 speed: 1069 wps\n",
      "Itr 318 of 1549, perplexity: 62.766 speed: 1082 wps\n",
      "Itr 472 of 1549, perplexity: 60.535 speed: 1081 wps\n",
      "Itr 626 of 1549, perplexity: 57.862 speed: 1084 wps\n",
      "Itr 780 of 1549, perplexity: 57.314 speed: 1083 wps\n",
      "Itr 934 of 1549, perplexity: 56.384 speed: 1083 wps\n",
      "Itr 1088 of 1549, perplexity: 55.430 speed: 1086 wps\n",
      "Itr 1242 of 1549, perplexity: 54.662 speed: 1085 wps\n",
      "Itr 1396 of 1549, perplexity: 53.265 speed: 1085 wps\n",
      "Epoch 14 : Train Perplexity: 52.315\n",
      "Epoch 14 : Valid Perplexity: 120.497\n",
      "Epoch 15 : Learning rate: 0.001\n",
      "Itr 10 of 1549, perplexity: 68.032 speed: 1047 wps\n",
      "Itr 164 of 1549, perplexity: 64.035 speed: 1083 wps\n",
      "Itr 318 of 1549, perplexity: 62.668 speed: 1079 wps\n",
      "Itr 472 of 1549, perplexity: 60.447 speed: 1077 wps\n",
      "Itr 626 of 1549, perplexity: 57.778 speed: 1081 wps\n",
      "Itr 780 of 1549, perplexity: 57.234 speed: 1080 wps\n",
      "Itr 934 of 1549, perplexity: 56.306 speed: 1077 wps\n",
      "Itr 1088 of 1549, perplexity: 55.352 speed: 1076 wps\n",
      "Itr 1242 of 1549, perplexity: 54.585 speed: 1077 wps\n",
      "Itr 1396 of 1549, perplexity: 53.190 speed: 1077 wps\n",
      "Epoch 15 : Train Perplexity: 52.241\n",
      "Epoch 15 : Valid Perplexity: 120.413\n",
      "Test Perplexity: 115.675\n"
     ]
    }
   ],
   "source": [
    "\n",
    "# Instantiates the PTBModel class\n",
    "m=PTBModel.instance()   \n",
    "K = tf.keras.backend \n",
    "for i in range(max_epoch):\n",
    "    # Define the decay for this epoch\n",
    "    lr_decay = decay ** max(i - max_epoch_decay_lr, 0.0)\n",
    "    dcr = learning_rate * lr_decay\n",
    "    m._lr = dcr\n",
    "    K.set_value(m._model.optimizer.learning_rate,m._lr)\n",
    "    print(\"Epoch %d : Learning rate: %.3f\" % (i + 1, m._model.optimizer.learning_rate))\n",
    "    # Run the loop for this epoch in the training mode\n",
    "    train_perplexity = run_one_epoch(m, train_data,is_training=True,verbose=True)\n",
    "    print(\"Epoch %d : Train Perplexity: %.3f\" % (i + 1, train_perplexity))\n",
    "        \n",
    "    # Run the loop for this epoch in the validation mode\n",
    "    valid_perplexity = run_one_epoch(m, valid_data,is_training=False,verbose=False)\n",
    "    print(\"Epoch %d : Valid Perplexity: %.3f\" % (i + 1, valid_perplexity))\n",
    "    \n",
    "# Run the loop in the testing mode to see how effective was our training\n",
    "test_perplexity = run_one_epoch(m, test_data,is_training=False,verbose=False)\n",
    "print(\"Test Perplexity: %.3f\" % test_perplexity)\n",
    "\n"
   ]
  },
  {
   "cell_type": "markdown",
   "metadata": {
    "button": false,
    "new_sheet": false,
    "run_control": {
     "read_only": false
    }
   },
   "source": [
    "As you can see, the model's perplexity rating drops very quickly after a few iterations. As was elaborated before, <b>lower perplexity means that the model is more certain about its prediction</b>. As such, we can be sure that this model is performing well!\n"
   ]
  },
  {
   "cell_type": "markdown",
   "metadata": {
    "button": false,
    "new_sheet": false,
    "run_control": {
     "read_only": false
    }
   },
   "source": [
    "* * *\n"
   ]
  },
  {
   "cell_type": "markdown",
   "metadata": {
    "button": false,
    "new_sheet": false,
    "run_control": {
     "read_only": false
    }
   },
   "source": [
    "This is the end of the <b>Applying Recurrent Neural Networks to Text Processing</b> notebook. Hopefully you now have a better understanding of Recurrent Neural Networks and how to implement one utilizing TensorFlow. "
   ]
  },
  {
   "cell_type": "markdown",
   "metadata": {
    "button": false,
    "new_sheet": false,
    "run_control": {
     "read_only": false
    }
   },
   "source": [
    "## Want to learn more?\n",
    "\n",
    "Running deep learning programs usually needs a high performance platform. **PowerAI** speeds up deep learning and AI. Built on IBM’s Power Systems, **PowerAI** is a scalable software platform that accelerates deep learning and AI with blazing performance for individual users or enterprises. The **PowerAI** platform supports popular machine learning libraries and dependencies including TensorFlow, Caffe, Torch, and Theano. You can use [PowerAI on IBM Cloud](https://cocl.us/ML0120EN_PAI).\n",
    "\n",
    "Also, you can use **Watson Studio** to run these notebooks faster with bigger datasets. **Watson Studio** is IBM’s leading cloud solution for data scientists, built by data scientists. With Jupyter notebooks, RStudio, Apache Spark and popular libraries pre-packaged in the cloud, **Watson Studio** enables data scientists to collaborate on their projects without having to install anything. Join the fast-growing community of **Watson Studio** users today with a free account at [Watson Studio](https://cocl.us/ML0120EN_DSX). "
   ]
  },
  {
   "cell_type": "markdown",
   "metadata": {
    "button": false,
    "new_sheet": false,
    "run_control": {
     "read_only": false
    }
   },
   "source": [
    "### Thanks for completing this lesson!\n",
    "\n",
    "Notebook created by <a href=\"https://br.linkedin.com/in/walter-gomes-de-amorim-junior-624726121\">Walter Gomes de Amorim Junior</a>, <a href = \"https://linkedin.com/in/saeedaghabozorgi\"> Saeed Aghabozorgi </a></h4>\n",
    "\n",
    "Updated to TF 2.X by <a href=\"https://linkedin.com/in/romeo-kienzler-089b4557\"> Romeo Kienzler </a>, <a href=\"https://www.linkedin.com/in/samaya-madhavan\"> Samaya Madhavan </a>\n"
   ]
  },
  {
   "cell_type": "markdown",
   "metadata": {},
   "source": [
    "\n",
    "## Change Log\n",
    "\n",
    "|  Date (YYYY-MM-DD) |  Version | Changed By  |  Change Description |\n",
    "|---|---|---|---|\n",
    "| 2020-09-21  | 2.0  | Srishti  |  Migrated Lab to Markdown and added to course repo in GitLab |\n",
    "\n",
    "\n",
    "\n",
    "<hr>\n",
    "\n",
    "## <h3 align=\"center\"> © IBM Corporation 2020. All rights reserved. <h3/>\n"
   ]
  },
  {
   "cell_type": "markdown",
   "metadata": {
    "button": false,
    "new_sheet": false,
    "run_control": {
     "read_only": false
    }
   },
   "source": [
    "<hr>\n",
    "\n",
    "Copyright © 2018 [Cognitive Class](https://cocl.us/DX0108EN_CC). This notebook and its source code are released under the terms of the [MIT License](https://bigdatauniversity.com/mit-license?cm_mmc=Email_Newsletter-_-Developer_Ed%2BTech-_-WW_WW-_-SkillsNetwork-Courses-IBMDeveloperSkillsNetwork-DL0120EN-SkillsNetwork-20629446&cm_mmca1=000026UJ&cm_mmca2=10006555&cm_mmca3=M12345678&cvosrc=email.Newsletter.M12345678&cvo_campaign=000026UJ&cm_mmc=Email_Newsletter-_-Developer_Ed%2BTech-_-WW_WW-_-SkillsNetwork-Courses-IBMDeveloperSkillsNetwork-DL0120EN-SkillsNetwork-20629446&cm_mmca1=000026UJ&cm_mmca2=10006555&cm_mmca3=M12345678&cvosrc=email.Newsletter.M12345678&cvo_campaign=000026UJ).\n"
   ]
  }
 ],
 "metadata": {
  "anaconda-cloud": {},
  "kernelspec": {
   "display_name": "Python 3.7",
   "language": "python",
   "name": "python3"
  },
  "language_info": {
   "codemirror_mode": {
    "name": "ipython",
    "version": 3
   },
   "file_extension": ".py",
   "mimetype": "text/x-python",
   "name": "python",
   "nbconvert_exporter": "python",
   "pygments_lexer": "ipython3",
   "version": "3.7.9"
  },
  "widgets": {
   "state": {},
   "version": "1.1.2"
  }
 },
 "nbformat": 4,
 "nbformat_minor": 4
}
